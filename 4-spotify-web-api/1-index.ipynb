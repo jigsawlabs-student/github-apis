{
 "cells": [
  {
   "cell_type": "markdown",
   "metadata": {},
   "source": [
    "# Spotify Signup"
   ]
  },
  {
   "cell_type": "markdown",
   "metadata": {},
   "source": [
    "### Introduction"
   ]
  },
  {
   "cell_type": "markdown",
   "metadata": {},
   "source": [
    "In this lesson we'll work with the spotify web API.  As we'll see, uses a different authentication flow than we have previously seen."
   ]
  },
  {
   "cell_type": "markdown",
   "metadata": {},
   "source": [
    "### Signing Up with Spotify"
   ]
  },
  {
   "cell_type": "markdown",
   "metadata": {},
   "source": [
    "To start, go to the [Spotify Developer Login](https://developer.spotify.com/dashboard/login) and login with your Spotify account, or create a new one."
   ]
  },
  {
   "cell_type": "markdown",
   "metadata": {},
   "source": [
    "<img src=\"./spotify-login.png\">"
   ]
  },
  {
   "cell_type": "markdown",
   "metadata": {},
   "source": [
    "Once logged in, click on Create a New App, and then signup for non-commercial use."
   ]
  },
  {
   "cell_type": "markdown",
   "metadata": {},
   "source": [
    "Afterwards, you will be directed to the client id and secret pages."
   ]
  },
  {
   "cell_type": "markdown",
   "metadata": {},
   "source": [
    "### Authenticating with the API"
   ]
  },
  {
   "cell_type": "markdown",
   "metadata": {},
   "source": [
    "By now you should have your client id and client secret codes."
   ]
  },
  {
   "cell_type": "markdown",
   "metadata": {},
   "source": [
    "To see how to use them, read through the [client credentials flow on Spotify](https://developer.spotify.com/documentation/general/guides/authorization-guide/#client-credentials-flow).  Don't worry, we'll wait."
   ]
  },
  {
   "cell_type": "markdown",
   "metadata": {},
   "source": [
    "> It explains that before making a request, we need to use the `client_id` and `client_secret` to retreive an auth token."
   ]
  },
  {
   "cell_type": "markdown",
   "metadata": {},
   "source": [
    "The documentation does not explicitly show us how to get an auth token using Python.  But lucky for us, this [this stackoverflow post](https://stackoverflow.com/questions/30557409/spotify-api-post-call-response-415) does."
   ]
  },
  {
   "cell_type": "markdown",
   "metadata": {},
   "source": [
    "Copy the code below and confirm that you can return an access token with the code."
   ]
  },
  {
   "cell_type": "code",
   "execution_count": 5,
   "metadata": {},
   "outputs": [
    {
     "data": {
      "text/plain": [
       "{'access_token': 'BQBo1li3bmZkCepkSPBizk89GYhiUqDU_17F7h_52PEYoJpaSc0PhIUGD2RrsewpSZfOmr-mJFvnfl7MYllse20c_w3qcuvD2mRhSMhERb-87zH7eyi1',\n",
       " 'token_type': 'Bearer',\n",
       " 'expires_in': 3600}"
      ]
     },
     "execution_count": 5,
     "metadata": {},
     "output_type": "execute_result"
    }
   ],
   "source": [
    "import requests\n",
    "\n",
    "# client_id = # Enter your client id here\n",
    "# client_secret = # Enter your client secret here\n",
    "\n"
   ]
  },
  {
   "cell_type": "markdown",
   "metadata": {},
   "source": [
    "After confirming that you can retrieve an access token, turn the code into a function called `get_access_token` that takes in arguments of `client_id` and `client_secret` and returns the access token. "
   ]
  },
  {
   "cell_type": "code",
   "execution_count": 27,
   "metadata": {},
   "outputs": [],
   "source": [
    "import requests\n",
    "\n",
    "def get_access_token(client_id, client_secret):\n",
    "    pass"
   ]
  },
  {
   "cell_type": "code",
   "execution_count": 28,
   "metadata": {},
   "outputs": [],
   "source": [
    "token = get_access_token(client_id, client_secret)\n",
    "\n",
    "\n",
    "token\n",
    "# Your access token will be different\n",
    "# 'BQAXehpLzlIKmW5MPQfLaCbyOO-VJAUl6Sgl-jpkYNwHONFXycKso59RR_qt5XNnhNK77I1wdj1drERSiEI'"
   ]
  },
  {
   "cell_type": "markdown",
   "metadata": {},
   "source": [
    "### Making a search"
   ]
  },
  {
   "cell_type": "markdown",
   "metadata": {},
   "source": [
    "Now that we have an access token, it's time for us to use the Spotify API to get some information about music.  The main component that we would like to use in the API is the [discover page](https://developer.spotify.com/discover/#search).\n",
    "\n",
    "We can start by making a request for information about an musical artist.  Look at the [search documents for an artist](https://developer.spotify.com/documentation/web-api/reference/search/) to see how."
   ]
  },
  {
   "cell_type": "markdown",
   "metadata": {},
   "source": [
    "Write a function called `artist_search_url` that takes in an `artist_name`, and returns the corresponding correct url to search for the artist. "
   ]
  },
  {
   "cell_type": "code",
   "execution_count": 21,
   "metadata": {},
   "outputs": [],
   "source": [
    "def artist_search_url(artist_name):\n",
    "    pass"
   ]
  },
  {
   "cell_type": "code",
   "execution_count": 22,
   "metadata": {},
   "outputs": [],
   "source": [
    "paul_simon_request_url = artist_search_url('paul simon')\n",
    "paul_simon_request_url\n",
    "# 'https://api.spotify.com/v1/search?q=paul simon&type=artist'"
   ]
  },
  {
   "cell_type": "markdown",
   "metadata": {},
   "source": [
    "Write a function called `make_request` that takes in the token, and url and makes the request.  You can reference [this stackoverflow post](https://stackoverflow.com/questions/29931671/making-an-api-call-in-python-with-an-api-that-requires-a-bearer-token) to see how to provide the access token into headers.  Just use a `get` request instead of a post request."
   ]
  },
  {
   "cell_type": "code",
   "execution_count": 30,
   "metadata": {},
   "outputs": [],
   "source": [
    "import requests\n",
    "\n",
    "def make_request(token, url):\n",
    "    pass"
   ]
  },
  {
   "cell_type": "markdown",
   "metadata": {},
   "source": [
    "You can check that you write the functin correctly with the following by checking the return value of the function below."
   ]
  },
  {
   "cell_type": "code",
   "execution_count": 31,
   "metadata": {},
   "outputs": [],
   "source": [
    "paul_simon_data = make_request(token, paul_simon_request_url)"
   ]
  },
  {
   "cell_type": "code",
   "execution_count": 32,
   "metadata": {},
   "outputs": [],
   "source": [
    "# paul_simon_data\n",
    "\n",
    "# {'artists': {'href': 'https://api.spotify.com/v1/search?query=paul+simon&type=artist&offset=0&limit=20',\n",
    "#   'items': [{'external_urls': {'spotify': 'https://open.spotify.com/artist/2CvCyf1gEVhI0mX6aFXmVI'},\n",
    "#     'followers': {'href': None, 'total': 1219295},\n",
    "#     'genres': ['classic rock',\n",
    "#      'folk',\n",
    "#      'folk rock',\n",
    "#      'mellow gold',\n",
    "#      'permanent wave',\n",
    "#      'rock',\n",
    "#      'roots rock'"
   ]
  },
  {
   "cell_type": "markdown",
   "metadata": {},
   "source": [
    "> When you see that it's correct, feel free to comment out the output."
   ]
  },
  {
   "cell_type": "markdown",
   "metadata": {},
   "source": [
    "Next write a method that extracts the `name`, `id` and popularity from the json response for an artist."
   ]
  },
  {
   "cell_type": "code",
   "execution_count": 33,
   "metadata": {},
   "outputs": [],
   "source": [
    "def extract_artist_info(search_resp):\n",
    "    pass"
   ]
  },
  {
   "cell_type": "code",
   "execution_count": 34,
   "metadata": {},
   "outputs": [],
   "source": [
    "paul_simon_info = extract_artist_info(paul_simon_data)\n",
    "paul_simon_info\n",
    "# {'name': 'Paul Simon', 'id': '2CvCyf1gEVhI0mX6aFXmVI', 'popularity': 74}"
   ]
  },
  {
   "cell_type": "markdown",
   "metadata": {},
   "source": [
    "## Digging Deeper"
   ]
  },
  {
   "cell_type": "markdown",
   "metadata": {},
   "source": [
    "Now that we have successfully requested and extracted information from the Spotify API, it's time to go deeper.  \n",
    "\n",
    "Let's use the artist's `id`, to search for more information about the artist."
   ]
  },
  {
   "cell_type": "markdown",
   "metadata": {},
   "source": [
    "* Finding the `top_tracks`"
   ]
  },
  {
   "cell_type": "markdown",
   "metadata": {},
   "source": [
    "With the Spotify API, we can find the top tracks of an artist.  Write a method that takes in an `artist_id`, and returns url to request an artist's top tracks. "
   ]
  },
  {
   "cell_type": "code",
   "execution_count": 100,
   "metadata": {},
   "outputs": [],
   "source": [
    "def top_tracks_url(artist_id):\n",
    "    pass"
   ]
  },
  {
   "cell_type": "code",
   "execution_count": 2,
   "metadata": {
    "tags": []
   },
   "outputs": [],
   "source": [
    "simon_id = paul_simon_info['id']\n",
    "\n",
    "\n",
    "simon_artist_url = top_tracks_url(simon_id)\n",
    "simon_artist_url\n",
    "# 'https://api.spotify.com/v1/artists/2CvCyf1gEVhI0mX6aFXmVI/top-tracks?country=US'"
   ]
  },
  {
   "cell_type": "markdown",
   "metadata": {},
   "source": [
    "Now use the url to make the request to the API."
   ]
  },
  {
   "cell_type": "code",
   "execution_count": 103,
   "metadata": {},
   "outputs": [],
   "source": [
    "simon_tracks = make_request(token, simon_artist_url)"
   ]
  },
  {
   "cell_type": "code",
   "execution_count": 192,
   "metadata": {},
   "outputs": [],
   "source": [
    "# simon_tracks\n",
    "\n",
    "# {'tracks': [{'album': {'album_type': 'album',\n",
    "#     'artists': [{'external_urls': {'spotify': 'https://open.spotify.com/artist/2CvCyf1gEVhI0mX6aFXmVI'},\n",
    "#       'href': 'https://api.spotify.com/v1/artists/2CvCyf1gEVhI0mX6aFXmVI',\n",
    "#       'id': '2CvCyf1gEVhI0mX6aFXmVI',\n",
    "#       'name': 'Paul Simon',\n",
    "#       'type': 'artist',\n",
    "#       'uri': 'spotify:artist:2CvCyf1gEVhI0mX6aFXmVI'}],"
   ]
  },
  {
   "cell_type": "markdown",
   "metadata": {},
   "source": [
    "Write a method called `extract_track_info` that takes in a single track from the response, and returns a smaller dictionary of specified keys.  We'll provide a default argument of `keys = ['name', 'id', 'popularity]`, but if provided a list of different keys, it should extract them. \n",
    "\n",
    "> Look up dictionary comprehension to see how to do this."
   ]
  },
  {
   "cell_type": "code",
   "execution_count": 46,
   "metadata": {},
   "outputs": [],
   "source": [
    "tracks = simon_tracks['tracks']\n",
    "\n",
    "first_track = tracks[0]\n",
    "\n",
    "first_track.keys()\n",
    "\n",
    "# dict_keys(['album', 'artists', 'disc_number', 'duration_ms',\n",
    "# 'explicit', 'external_ids', 'external_urls', 'href', 'id',\n",
    "# 'is_local', 'is_playable', 'name', 'popularity', \n",
    "# 'preview_url', 'track_number', 'type', 'uri'])"
   ]
  },
  {
   "cell_type": "code",
   "execution_count": 105,
   "metadata": {},
   "outputs": [],
   "source": [
    "def extract_track_info(track_response, keys = ['name', 'id', 'popularity']):\n",
    "    pass"
   ]
  },
  {
   "cell_type": "code",
   "execution_count": 106,
   "metadata": {},
   "outputs": [],
   "source": [
    "extract_track_info(first_track)"
   ]
  },
  {
   "cell_type": "code",
   "execution_count": 55,
   "metadata": {},
   "outputs": [
    {
     "data": {
      "text/plain": [
       "{'duration_ms': 280000, 'name': 'You Can Call Me Al', 'popularity': 74}"
      ]
     },
     "execution_count": 55,
     "metadata": {},
     "output_type": "execute_result"
    }
   ],
   "source": [
    "extract_track_info(first_track, keys = ['name', 'popularity', 'duration_ms'])\n",
    "# {'duration_ms': 280000, 'name': 'You Can Call Me Al', 'popularity': 74}"
   ]
  },
  {
   "cell_type": "markdown",
   "metadata": {},
   "source": [
    "Now write a method called `extract_tracks_info` that takes in an argument of a list of tracks, and has a default argument of `keys = ['name', 'id', 'popularity']` and retrieves the corresponding data for a list of tracks. "
   ]
  },
  {
   "cell_type": "code",
   "execution_count": 107,
   "metadata": {},
   "outputs": [],
   "source": [
    "def extract_tracks_info(tracks_response, keys = ['name', 'id', 'popularity']):\n",
    "    pass"
   ]
  },
  {
   "cell_type": "code",
   "execution_count": 43,
   "metadata": {},
   "outputs": [
    {
     "data": {
      "text/plain": [
       "[{'id': '0qxYx4F3vm1AOnfux6dDxP',\n",
       "  'name': 'You Can Call Me Al',\n",
       "  'popularity': 74},\n",
       " {'id': '6vxHp3CDNo0afgKGp2yi1E',\n",
       "  'name': 'Me and Julio Down by the Schoolyard',\n",
       "  'popularity': 70}]"
      ]
     },
     "execution_count": 43,
     "metadata": {},
     "output_type": "execute_result"
    }
   ],
   "source": [
    "top_songs_info = extract_tracks_info(simon_tracks['tracks'])\n",
    "\n",
    "top_songs_info[:2]\n",
    "# [{'song': 'You Can Call Me Al',\n",
    "#   'id': '0qxYx4F3vm1AOnfux6dDxP',\n",
    "#   'popularity': 74},\n",
    "#  {'song': 'Me and Julio Down by the Schoolyard',\n",
    "#   'id': '6vxHp3CDNo0afgKGp2yi1E',\n",
    "#   'popularity': 70},"
   ]
  },
  {
   "cell_type": "markdown",
   "metadata": {},
   "source": [
    "## Song Analysis "
   ]
  },
  {
   "cell_type": "markdown",
   "metadata": {},
   "source": [
    "Now write a function that takes in a `track_id` and returns the url to retrieve the features of a track."
   ]
  },
  {
   "cell_type": "code",
   "execution_count": 108,
   "metadata": {},
   "outputs": [],
   "source": [
    "def audio_features(track_id):\n",
    "    pass"
   ]
  },
  {
   "cell_type": "code",
   "execution_count": 61,
   "metadata": {},
   "outputs": [
    {
     "data": {
      "text/plain": [
       "'https://api.spotify.com/v1/audio-features/0qxYx4F3vm1AOnfux6dDxP'"
      ]
     },
     "execution_count": 61,
     "metadata": {},
     "output_type": "execute_result"
    }
   ],
   "source": [
    "top_song_id = top_songs_info[0]['id']\n",
    "audio_url = audio_data(top_song_id)\n",
    "\n",
    "audio_url\n",
    "# 'https://api.spotify.com/v1/audio-features/0qxYx4F3vm1AOnfux6dDxP'"
   ]
  },
  {
   "cell_type": "markdown",
   "metadata": {},
   "source": [
    "Now use this url to retrieve the characteristics of this song."
   ]
  },
  {
   "cell_type": "code",
   "execution_count": 62,
   "metadata": {},
   "outputs": [],
   "source": [
    "audio_data = make_request(token, audio_url)"
   ]
  },
  {
   "cell_type": "code",
   "execution_count": 63,
   "metadata": {},
   "outputs": [
    {
     "data": {
      "text/plain": [
       "{'danceability': 0.776,\n",
       " 'energy': 0.763,\n",
       " 'key': 5,\n",
       " 'loudness': -8.124,\n",
       " 'mode': 1,\n",
       " 'speechiness': 0.0535,\n",
       " 'acousticness': 0.182,\n",
       " 'instrumentalness': 0.0065,\n",
       " 'liveness': 0.077,\n",
       " 'valence': 0.82,\n",
       " 'tempo': 128.433,\n",
       " 'type': 'audio_features',\n",
       " 'id': '0qxYx4F3vm1AOnfux6dDxP',\n",
       " 'uri': 'spotify:track:0qxYx4F3vm1AOnfux6dDxP',\n",
       " 'track_href': 'https://api.spotify.com/v1/tracks/0qxYx4F3vm1AOnfux6dDxP',\n",
       " 'analysis_url': 'https://api.spotify.com/v1/audio-analysis/0qxYx4F3vm1AOnfux6dDxP',\n",
       " 'duration_ms': 280000,\n",
       " 'time_signature': 4}"
      ]
     },
     "execution_count": 63,
     "metadata": {},
     "output_type": "execute_result"
    }
   ],
   "source": [
    "audio_data\n",
    "# {'danceability': 0.776,\n",
    "#  'energy': 0.763,\n",
    "#  'key': 5,\n",
    "#  'loudness': -8.124,\n",
    "#  'mode': 1,\n",
    "#  'speechiness': 0.0535,\n",
    "#  'acousticness': 0.182,\n",
    "#  'instrumentalness': 0.0065,\n",
    "#  'liveness': 0.077,\n",
    "#  'valence': 0.82,\n",
    "#  'tempo': 128.433,\n",
    "#  'type': 'audio_features',\n",
    "#  'id': '0qxYx4F3vm1AOnfux6dDxP',\n",
    "#  'uri': 'spotify:track:0qxYx4F3vm1AOnfux6dDxP',\n",
    "#  'track_href': 'https://api.spotify.com/v1/tracks/0qxYx4F3vm1AOnfux6dDxP',\n",
    "#  'analysis_url': 'https://api.spotify.com/v1/audio-analysis/0qxYx4F3vm1AOnfux6dDxP',\n",
    "#  'duration_ms': 280000,\n",
    "#  'time_signature': 4}"
   ]
  },
  {
   "cell_type": "markdown",
   "metadata": {},
   "source": [
    "Next write a function called `extract_audio_data` that takes in a track features response, and only returns the following selected attributes by default:\n",
    "\n",
    "`['danceability', 'energy', 'loudness', 'speechiness', 'acousticness', 'instrumentalness', 'liveness', 'valence']`\n",
    "\n",
    "But can also return a list of other attributes if provided."
   ]
  },
  {
   "cell_type": "code",
   "execution_count": 109,
   "metadata": {},
   "outputs": [],
   "source": [
    "def extract_audio_data(audio_data, selected_attrs):\n",
    "    pass"
   ]
  },
  {
   "cell_type": "code",
   "execution_count": 67,
   "metadata": {},
   "outputs": [
    {
     "data": {
      "text/plain": [
       "{'danceability': 0.776,\n",
       " 'energy': 0.763,\n",
       " 'loudness': -8.124,\n",
       " 'speechiness': 0.0535,\n",
       " 'acousticness': 0.182,\n",
       " 'instrumentalness': 0.0065,\n",
       " 'liveness': 0.077,\n",
       " 'valence': 0.82}"
      ]
     },
     "execution_count": 67,
     "metadata": {},
     "output_type": "execute_result"
    }
   ],
   "source": [
    "extract_audio_data(audio_data)\n",
    "# {'danceability': 0.776,\n",
    "#  'energy': 0.763,\n",
    "#  'loudness': -8.124,\n",
    "#  'speechiness': 0.0535,\n",
    "#  'acousticness': 0.182,\n",
    "#  'instrumentalness': 0.0065,\n",
    "#  'liveness': 0.077,\n",
    "#  'valence': 0.82}"
   ]
  },
  {
   "cell_type": "code",
   "execution_count": 70,
   "metadata": {},
   "outputs": [
    {
     "data": {
      "text/plain": [
       "{'danceability': 0.776,\n",
       " 'energy': 0.763,\n",
       " 'loudness': -8.124,\n",
       " 'instrumentalness': 0.0065}"
      ]
     },
     "execution_count": 70,
     "metadata": {},
     "output_type": "execute_result"
    }
   ],
   "source": [
    "alt_attrs = ['danceability', 'energy', 'loudness', 'instrumentalness']\n",
    "extract_audio_data(audio_data, selected_attrs = alt_attrs)\n",
    "# {'danceability': 0.776,\n",
    "#  'energy': 0.763,\n",
    "#  'loudness': -8.124,\n",
    "#  'instrumentalness': 0.0065}"
   ]
  },
  {
   "cell_type": "markdown",
   "metadata": {},
   "source": [
    "Now let's work on constructing a request to retreive the song features for a list of songs.  First, let's get a list of the song ids for our top songs."
   ]
  },
  {
   "cell_type": "code",
   "execution_count": 73,
   "metadata": {},
   "outputs": [],
   "source": [
    "top_song_ids = [top_song['id'] for top_song in top_songs_info]\n",
    "# ['0qxYx4F3vm1AOnfux6dDxP',\n",
    "#  '6vxHp3CDNo0afgKGp2yi1E',\n",
    "#  '6Qb7gtV6Q4MnUjSbkFcopl',\n",
    "#  '51KKQAgYFoJHgVIuJWHdHb',\n",
    "#  '71GvlH0VdeClloLIkHrAVu',\n",
    "#  '3f0U5NaD1bCk8nmKpn2ZJY',\n",
    "#  '3gIBSlXYIN1mru35l4LWPB',\n",
    "#  '2h23bjG8B3bcD47HBu6bHG',\n",
    "#  '0zb2kpEQMnqJPiLACKMiFM',\n",
    "#  '00IrSynHsun7DpDrLkRIjM']"
   ]
  },
  {
   "cell_type": "markdown",
   "metadata": {},
   "source": [
    "From there let's write a function that takes in a list of track ids and constructs the url to retreive each of the provided songs' features -- we can see how to do that [here](https://developer.spotify.com/documentation/web-api/reference/tracks/get-several-audio-features/)."
   ]
  },
  {
   "cell_type": "code",
   "execution_count": 110,
   "metadata": {},
   "outputs": [],
   "source": [
    "def audio_data_url(track_ids):\n",
    "    pass"
   ]
  },
  {
   "cell_type": "code",
   "execution_count": 78,
   "metadata": {},
   "outputs": [
    {
     "data": {
      "text/plain": [
       "'https://api.spotify.com/v1/audio-features/?ids=0qxYx4F3vm1AOnfux6dDxP,6vxHp3CDNo0afgKGp2yi1E,6Qb7gtV6Q4MnUjSbkFcopl,51KKQAgYFoJHgVIuJWHdHb,71GvlH0VdeClloLIkHrAVu,3f0U5NaD1bCk8nmKpn2ZJY,3gIBSlXYIN1mru35l4LWPB,2h23bjG8B3bcD47HBu6bHG,0zb2kpEQMnqJPiLACKMiFM,00IrSynHsun7DpDrLkRIjM'"
      ]
     },
     "execution_count": 78,
     "metadata": {},
     "output_type": "execute_result"
    }
   ],
   "source": [
    "songs_url = audio_data_url(top_song_ids)\n",
    "songs_url\n",
    "# 'https://api.spotify.com/v1/audio-features/?ids=\n",
    "# 0qxYx4F3vm1AOnfux6dDxP,6vxHp3CDNo0afgKGp2yi1E,\n",
    "# 6Qb7gtV6Q4MnUjSbkFcopl,51KKQAgYFoJHgVIuJWHdHb,71GvlH0VdeClloLIkHrAVu,\n",
    "# 3f0U5NaD1bCk8nmKpn2ZJY,3gIBSlXYIN1mru35l4LWPB,2h23bjG8B3bcD47HBu6bHG,\n",
    "# 0zb2kpEQMnqJPiLACKMiFM,00IrSynHsun7DpDrLkRIjM'"
   ]
  },
  {
   "cell_type": "markdown",
   "metadata": {},
   "source": [
    "From there, let's request the song information."
   ]
  },
  {
   "cell_type": "code",
   "execution_count": 79,
   "metadata": {},
   "outputs": [],
   "source": [
    "songs_features = make_request(token, songs_url)\n",
    "# songs_features\n",
    "\n",
    "# [{'danceability': 0.776,\n",
    "#   'energy': 0.763,\n",
    "#   'key': 5,\n",
    "#   'loudness': -8.124,\n",
    "#   'mode': 1,\n",
    "#   'speechiness': 0.0535,\n",
    "#   'acousticness': 0.182,\n",
    "#   'instrumentalness': 0.0065,\n",
    "#   'liveness': 0.077,\n",
    "#   'valence': 0.82,\n",
    "#   'tempo': 128.433,\n",
    "#   'type': 'audio_features',\n",
    "#   'id': '0qxYx4F3vm1AOnfux6dDxP',\n",
    "#   'uri': 'spotify:track:0qxYx4F3vm1AOnfux6dDxP',\n",
    "#   'track_href': 'https://api.spotify.com/v1/tracks/0qxYx4F3vm1AOnfux6dDxP',\n",
    "#   'analysis_url': 'https://api.spotify.com/v1/audio-analysis/0qxYx4F3vm1AOnfux6dDxP',\n",
    "#   'duration_ms': 280000,\n",
    "#   'time_signature': 4},\n",
    "#  {'danceability': 0.626,\n",
    "#   'energy': 0.816,\n",
    "#   'key': 9,\n",
    "#   'loudness': -10.593,\n",
    "#   'mode': 1,"
   ]
  },
  {
   "cell_type": "markdown",
   "metadata": {},
   "source": [
    "From there, we can use our extract_audio_data function to limit the keys of limit the data for each song."
   ]
  },
  {
   "cell_type": "code",
   "execution_count": 91,
   "metadata": {},
   "outputs": [
    {
     "data": {
      "text/plain": [
       "[{'danceability': 0.776,\n",
       "  'energy': 0.763,\n",
       "  'loudness': -8.124,\n",
       "  'speechiness': 0.0535,\n",
       "  'acousticness': 0.182,\n",
       "  'instrumentalness': 0.0065,\n",
       "  'liveness': 0.077,\n",
       "  'valence': 0.82},\n",
       " {'danceability': 0.626,\n",
       "  'energy': 0.816,\n",
       "  'loudness': -10.593,\n",
       "  'speechiness': 0.13,\n",
       "  'acousticness': 0.237,\n",
       "  'instrumentalness': 1.8e-06,\n",
       "  'liveness': 0.104,\n",
       "  'valence': 0.798},\n",
       " {'danceability': 0.815,\n",
       "  'energy': 0.372,\n",
       "  'loudness': -12.814,\n",
       "  'speechiness': 0.0752,\n",
       "  'acousticness': 0.166,\n",
       "  'instrumentalness': 0.000116,\n",
       "  'liveness': 0.0767,\n",
       "  'valence': 0.293}]"
      ]
     },
     "execution_count": 91,
     "metadata": {},
     "output_type": "execute_result"
    }
   ],
   "source": [
    "[extract_audio_data(audio_data) for audio_data in songs_features['audio_features']][:3]"
   ]
  },
  {
   "cell_type": "markdown",
   "metadata": {},
   "source": [
    "### Resources"
   ]
  },
  {
   "cell_type": "markdown",
   "metadata": {},
   "source": [
    "[StackOverflow Post](https://stackoverflow.com/questions/30557409/spotify-api-post-call-response-415)"
   ]
  },
  {
   "cell_type": "markdown",
   "metadata": {},
   "source": [
    "[Spotify Tutorial Python](https://kholinlabs.com/how-oauth-works-with-spotify-as-an-example)"
   ]
  }
 ],
 "metadata": {
  "kernelspec": {
   "display_name": "Python 3 (ipykernel)",
   "language": "python",
   "name": "python3"
  },
  "language_info": {
   "codemirror_mode": {
    "name": "ipython",
    "version": 3
   },
   "file_extension": ".py",
   "mimetype": "text/x-python",
   "name": "python",
   "nbconvert_exporter": "python",
   "pygments_lexer": "ipython3",
   "version": "3.11.1"
  }
 },
 "nbformat": 4,
 "nbformat_minor": 4
}
