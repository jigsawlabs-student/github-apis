{
 "cells": [
  {
   "cell_type": "code",
   "execution_count": 24,
   "metadata": {},
   "outputs": [],
   "source": [
    "yelp_url = \"https://www.yelp.com/search/snippet?\"\n",
    "# params = \"find_desc=Restaurants&find_loc=New%20York%2C%20NY&ns=1\" \n",
    "#  + \"&start=30&parent_request_id=c965790245aa1bb5&request_origin=user\""
   ]
  },
  {
   "cell_type": "code",
   "execution_count": 23,
   "metadata": {},
   "outputs": [],
   "source": [
    "params = {\"find_desc\":\"Restaurants\", \n",
    "          \"find_loc\": \"New%20York%2C%20NY\", \"ns\":1,\n",
    "          \"start\": 30, \n",
    "          \"parent_request_id\": \"c965790245aa1bb5\",\n",
    "          \"request_origin\": \"user\"}"
   ]
  },
  {
   "cell_type": "code",
   "execution_count": 2,
   "metadata": {},
   "outputs": [],
   "source": [
    "import requests"
   ]
  },
  {
   "cell_type": "code",
   "execution_count": 25,
   "metadata": {},
   "outputs": [],
   "source": [
    "response = requests.get(yelp_url, params)"
   ]
  },
  {
   "cell_type": "code",
   "execution_count": 26,
   "metadata": {},
   "outputs": [],
   "source": [
    "json = response.json()"
   ]
  },
  {
   "cell_type": "code",
   "execution_count": 27,
   "metadata": {},
   "outputs": [
    {
     "data": {
      "text/plain": [
       "dict_keys(['loggingConfig', 'adLoggingConfig', 'autoEnabledAttributes', 'currentVersionSignature', 'pageTitle', 'searchPageProps', 'loggingData', 'ajaxScrollablePhotosURI'])"
      ]
     },
     "execution_count": 27,
     "metadata": {},
     "output_type": "execute_result"
    }
   ],
   "source": [
    "json.keys()"
   ]
  },
  {
   "cell_type": "code",
   "execution_count": 17,
   "metadata": {},
   "outputs": [],
   "source": [
    "restaurant_urls = list(json['searchPageProps']['searchMapProps']['hovercardData'].values())"
   ]
  },
  {
   "cell_type": "code",
   "execution_count": 18,
   "metadata": {},
   "outputs": [
    {
     "data": {
      "text/plain": [
       "31"
      ]
     },
     "execution_count": 18,
     "metadata": {},
     "output_type": "execute_result"
    }
   ],
   "source": [
    "len(restaurant_urls)"
   ]
  },
  {
   "cell_type": "code",
   "execution_count": 28,
   "metadata": {},
   "outputs": [
    {
     "data": {
      "text/plain": [
       "dict_keys(['rating', 'photoPageUrl', 'name', 'neighborhoods', 'businessUrl', 'isAd', 'photoSrcSet', 'photoSrc', 'numReviews', 'addressLines', 'bizSiteUrl', 'categories', 'showRecommended'])"
      ]
     },
     "execution_count": 28,
     "metadata": {},
     "output_type": "execute_result"
    }
   ],
   "source": [
    "restaurant_urls[0].keys()"
   ]
  },
  {
   "cell_type": "code",
   "execution_count": 34,
   "metadata": {},
   "outputs": [],
   "source": [
    "selected_keys = ['rating', 'name', 'neighborhoods', 'numReviews', 'categories']"
   ]
  },
  {
   "cell_type": "code",
   "execution_count": 42,
   "metadata": {},
   "outputs": [],
   "source": [
    "restaurants = [{k:v for k, v in restaurant.items() if k in selected_keys} for restaurant in restaurant_urls]"
   ]
  },
  {
   "cell_type": "code",
   "execution_count": 38,
   "metadata": {},
   "outputs": [
    {
     "data": {
      "text/plain": [
       "{'rating': 4.5,\n",
       " 'name': 'TONCHIN NEW YORK',\n",
       " 'neighborhoods': ['Midtown West'],\n",
       " 'numReviews': 1120,\n",
       " 'categories': [{'url': '/search?cflt=ramen&find_desc=Restaurants&find_loc=New+York%2C+NY',\n",
       "   'title': 'Ramen'},\n",
       "  {'url': '/search?cflt=izakaya&find_desc=Restaurants&find_loc=New+York%2C+NY',\n",
       "   'title': 'Izakaya'}]}"
      ]
     },
     "execution_count": 38,
     "metadata": {},
     "output_type": "execute_result"
    }
   ],
   "source": [
    "restaurant = restaurants[0]\n",
    "restaurant"
   ]
  },
  {
   "cell_type": "code",
   "execution_count": 39,
   "metadata": {},
   "outputs": [],
   "source": [
    "def extract_info(restaurant):\n",
    "    restaurant['neighborhoods'] = restaurant['neighborhoods'][0]\n",
    "    restaurant['categories'] = restaurant['categories'][0]['title']\n",
    "    return restaurant"
   ]
  },
  {
   "cell_type": "code",
   "execution_count": 43,
   "metadata": {},
   "outputs": [],
   "source": [
    "cleaned_restaurants = [extract_info(restaurant) for restaurant in restaurants]"
   ]
  },
  {
   "cell_type": "code",
   "execution_count": 46,
   "metadata": {},
   "outputs": [
    {
     "data": {
      "text/plain": [
       "[{'rating': 4.5,\n",
       "  'name': 'TONCHIN NEW YORK',\n",
       "  'neighborhoods': 'Midtown West',\n",
       "  'numReviews': 1120,\n",
       "  'categories': 'Ramen'},\n",
       " {'rating': 5.0,\n",
       "  'name': 'Otis',\n",
       "  'neighborhoods': 'East Williamsburg',\n",
       "  'numReviews': 281,\n",
       "  'categories': 'American (New)'}]"
      ]
     },
     "execution_count": 46,
     "metadata": {},
     "output_type": "execute_result"
    }
   ],
   "source": [
    "cleaned_restaurants[:2]"
   ]
  },
  {
   "cell_type": "code",
   "execution_count": null,
   "metadata": {},
   "outputs": [],
   "source": []
  }
 ],
 "metadata": {
  "kernelspec": {
   "display_name": "Python 3 (ipykernel)",
   "language": "python",
   "name": "python3"
  },
  "language_info": {
   "codemirror_mode": {
    "name": "ipython",
    "version": 3
   },
   "file_extension": ".py",
   "mimetype": "text/x-python",
   "name": "python",
   "nbconvert_exporter": "python",
   "pygments_lexer": "ipython3",
   "version": "3.10.6"
  }
 },
 "nbformat": 4,
 "nbformat_minor": 4
}
