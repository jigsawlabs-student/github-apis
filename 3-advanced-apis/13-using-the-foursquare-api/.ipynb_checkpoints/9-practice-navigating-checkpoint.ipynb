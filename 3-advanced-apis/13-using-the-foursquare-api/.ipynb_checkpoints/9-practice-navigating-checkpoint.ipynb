{
 "cells": [
  {
   "cell_type": "markdown",
   "metadata": {},
   "source": [
    "# Exploring FourSquare Lab"
   ]
  },
  {
   "cell_type": "markdown",
   "metadata": {},
   "source": [
    "### Introduction"
   ]
  },
  {
   "cell_type": "markdown",
   "metadata": {},
   "source": [
    "Now in this lesson, let's practice working with the Foursquare API and writing functions to better help us navigate the API."
   ]
  },
  {
   "cell_type": "markdown",
   "metadata": {},
   "source": [
    "### Using the API"
   ]
  },
  {
   "cell_type": "markdown",
   "metadata": {},
   "source": [
    "Let's start by copying over the URL that Foursquare provided us in the documentation."
   ]
  },
  {
   "cell_type": "markdown",
   "metadata": {},
   "source": [
    "1. Write a function that constructs the search url, including the authorization parameters."
   ]
  },
  {
   "cell_type": "code",
   "execution_count": 1,
   "metadata": {},
   "outputs": [],
   "source": [
    "def search_url():\n",
    "    pass"
   ]
  },
  {
   "cell_type": "code",
   "execution_count": 57,
   "metadata": {},
   "outputs": [
    {
     "data": {
      "text/plain": [
       "'https://api.foursquare.com/v2/venues/search?client_id=ALECV5CBBEHRRKTIQ5ZV143YEXOH3SBLAMU54SPHKGZI1ZKE&client_secret=3JX3NRGRS2P0KE0NSKPTMCOZOY4MWUU4M3G33BO4XTRJ15SM&v=20190407'"
      ]
     },
     "execution_count": 57,
     "metadata": {},
     "output_type": "execute_result"
    }
   ],
   "source": [
    "search_url()\n",
    "# 'https://api.foursquare.com/v2/venues/search?\n",
    "# client_id=ALECV5CBBEHRRKTIQ5ZV143YEXOH3SBLAMU54SPHKGZI1ZKE\n",
    "# &client_secret=3JX3NRGRS2P0KE0NSKPTMCOZOY4MWUU4M3G33BO4XTRJ15SM&v=20190407'"
   ]
  },
  {
   "cell_type": "markdown",
   "metadata": {},
   "source": [
    "2. Constructing an `auth_url` function"
   ]
  },
  {
   "cell_type": "markdown",
   "metadata": {},
   "source": [
    "Now we can think of the `search_url` as two components, the search component, and the authorization component.  Write a function, that just constructs the authorization portion of the `url`.  And it should take the `client_id`, `client_secret`, and `date` as arguments."
   ]
  },
  {
   "cell_type": "code",
   "execution_count": 4,
   "metadata": {},
   "outputs": [],
   "source": [
    "client_id = \"ALECV5CBBEHRRKTIQ5ZV143YEXOH3SBLAMU54SPHKGZI1ZKE\"\n",
    "client_secret = \"3JX3NRGRS2P0KE0NSKPTMCOZOY4MWUU4M3G33BO4XTRJ15SM\"\n",
    "date = \"20190407\"\n",
    "# You may need to change the auth keys eventually\n",
    "\n",
    "def auth_url(client_id, client_secret, date):\n",
    "    pass"
   ]
  },
  {
   "cell_type": "code",
   "execution_count": 5,
   "metadata": {},
   "outputs": [],
   "source": [
    "auth_url(client_id, client_secret, date)\n",
    "# 'client_id=ALECV5CBBEHRRKTIQ5ZV143YEXOH3SBLAMU54SPHKGZI1ZKE&client_secret=3JX3NRGRS2P0KE0NSKPTMCOZOY4MWUU4M3G33BO4XTRJ15SM&v=20190407'"
   ]
  },
  {
   "cell_type": "markdown",
   "metadata": {},
   "source": [
    "3. Updating `search_url`"
   ]
  },
  {
   "cell_type": "markdown",
   "metadata": {},
   "source": [
    "Now change the `search_url` so that it takes an argument of `auth` to construct the query."
   ]
  },
  {
   "cell_type": "code",
   "execution_count": 8,
   "metadata": {},
   "outputs": [],
   "source": [
    "def search_url(auth):\n",
    "    pass"
   ]
  },
  {
   "cell_type": "code",
   "execution_count": 7,
   "metadata": {},
   "outputs": [
    {
     "data": {
      "text/plain": [
       "'https://api.foursquare.com/v2/venues/search?None'"
      ]
     },
     "execution_count": 7,
     "metadata": {},
     "output_type": "execute_result"
    }
   ],
   "source": [
    "auth = auth_url(client_id, client_secret, date)\n",
    "search_url(auth)"
   ]
  },
  {
   "cell_type": "markdown",
   "metadata": {},
   "source": [
    "4. Querying Params"
   ]
  },
  {
   "cell_type": "code",
   "execution_count": 11,
   "metadata": {},
   "outputs": [],
   "source": [
    "def params_string(params):\n",
    "    pass\n",
    "\n",
    "\n",
    "params = {'ll': \"40.7,-74\", \"query\": \"tacos\"}\n",
    "params_string(params)\n",
    "# '&ll=40.7,-74&query=tacos'"
   ]
  },
  {
   "cell_type": "markdown",
   "metadata": {},
   "source": [
    "5. Constructing the full string"
   ]
  },
  {
   "cell_type": "code",
   "execution_count": 12,
   "metadata": {},
   "outputs": [],
   "source": [
    "import requests\n",
    "\n",
    "def query_venues_url(auth, params):\n",
    "    pass"
   ]
  },
  {
   "cell_type": "code",
   "execution_count": 13,
   "metadata": {},
   "outputs": [],
   "source": [
    "query_venues_url(auth, params)\n",
    "# 'https://api.foursquare.com/v2/venues/search?\n",
    "# client_id=ALECV5CBBEHRRKTIQ5ZV143YEXOH3SBLAMU54SPHKGZI1ZKE&client_secret=3JX3NRGRS2P0KE0NSKPTMCOZOY4MWUU4M3G33BO4XTRJ15SM\n",
    "# &v=20190407&ll=40.7,-74&query=tacos'"
   ]
  },
  {
   "cell_type": "markdown",
   "metadata": {},
   "source": [
    "6. Querying the API"
   ]
  },
  {
   "cell_type": "code",
   "execution_count": 14,
   "metadata": {},
   "outputs": [],
   "source": [
    "import requests \n",
    "def query_api(auth, params):\n",
    "    pass"
   ]
  },
  {
   "cell_type": "code",
   "execution_count": 96,
   "metadata": {},
   "outputs": [],
   "source": [
    "# query_api(auth, params)\n",
    "# {'meta': {'code': 200, 'requestId': '5e3eea810de0d9001b875b66'},\n",
    "#  'response': {'venues': [{'id': '5b2932a0f5e9d70039787cf2',\n",
    "#     'name': 'Los Tacos Al Pastor',\n",
    "#     'location': {'address': '141 Front St',\n",
    "#      'lat': 40.70243624175102,\n",
    "#      'lng': -73.98753900608666,"
   ]
  },
  {
   "cell_type": "markdown",
   "metadata": {},
   "source": [
    "> The only issue with the above code, is that we have extra information with the meta and response keys.  Let's update the code in a new function below, so that it only returns the list of venues."
   ]
  },
  {
   "cell_type": "markdown",
   "metadata": {},
   "source": [
    "7. Query venues"
   ]
  },
  {
   "cell_type": "markdown",
   "metadata": {},
   "source": [
    "Now write a method that only returns a list of venues."
   ]
  },
  {
   "cell_type": "code",
   "execution_count": 26,
   "metadata": {},
   "outputs": [],
   "source": [
    "def venue_search(auth, params):\n",
    "    return ['venue']"
   ]
  },
  {
   "cell_type": "code",
   "execution_count": 27,
   "metadata": {},
   "outputs": [],
   "source": [
    "venues = venue_search(auth, params)"
   ]
  },
  {
   "cell_type": "code",
   "execution_count": 28,
   "metadata": {},
   "outputs": [],
   "source": [
    "venue = venues[0]\n",
    "# venue\n",
    "\n",
    "# [{'id': '5b2932a0f5e9d70039787cf2',\n",
    "#  'name': 'Los Tacos Al Pastor',\n",
    "#  'location': {'address': '141 Front St',\n",
    "#   'lat': 40.70243624175102,\n",
    "#   'lng': -73.98753900608666,\n",
    "#   'labeledLatLngs': [{'label': 'display',\n",
    "#     'lat': 40.70243624175102,\n",
    "#     'lng': -73.98753900608666}],]"
   ]
  },
  {
   "cell_type": "markdown",
   "metadata": {},
   "source": [
    "8. Write a method that will take a venue, and just return the id, name, and location as values"
   ]
  },
  {
   "cell_type": "code",
   "execution_count": 29,
   "metadata": {},
   "outputs": [],
   "source": [
    "def extract_details_from_venue(venue):\n",
    "    pass"
   ]
  },
  {
   "cell_type": "code",
   "execution_count": 30,
   "metadata": {},
   "outputs": [],
   "source": [
    "extract_details_from_venue(venue)\n",
    "# {'id': '5b2932a0f5e9d70039787cf2',\n",
    "#  'name': 'Los Tacos Al Pastor',\n",
    "#  'location': [40.70243624175102, -73.98753900608666]}"
   ]
  },
  {
   "cell_type": "markdown",
   "metadata": {},
   "source": [
    "9. Now write a function that does this for a list of venues."
   ]
  },
  {
   "cell_type": "code",
   "execution_count": 31,
   "metadata": {},
   "outputs": [],
   "source": [
    "def extract_details_from_venues(venues):\n",
    "    pass"
   ]
  },
  {
   "cell_type": "code",
   "execution_count": 34,
   "metadata": {},
   "outputs": [],
   "source": [
    "details_from_venues = extract_details_from_venues(venues)\n",
    "\n",
    "# details_from_venues[:4]\n",
    "\n",
    "# [{'id': '5b2932a0f5e9d70039787cf2',\n",
    "#   'name': 'Los Tacos Al Pastor',\n",
    "#   'location': [40.70243624175102, -73.98753900608666]},\n",
    "#  {'id': '542f62bc498ee31baa1395cb',\n",
    "#   'name': \"Rocco's Tacos and Tequila Bar Brooklyn\",\n",
    "#   'location': [40.693277341475834, -73.98868115958473]},\n",
    "#  {'id': '5196b9ff498e8a6be4336a03',\n",
    "#   'name': 'Los Tacos No. 1',\n",
    "#   'location': [40.74224400629671, -74.00596115738153]},\n",
    "#  {'id': '5d5f24ec09484500079aee00',\n",
    "#   'name': 'Los Tacos No. 1',\n",
    "#   'location': [40.714267, -74.008756]}]"
   ]
  },
  {
   "cell_type": "markdown",
   "metadata": {},
   "source": [
    "### Working with an Individual Venue"
   ]
  },
  {
   "cell_type": "markdown",
   "metadata": {},
   "source": [
    "1. Write a function that retrieves the details of an individual restaurant"
   ]
  },
  {
   "cell_type": "code",
   "execution_count": 35,
   "metadata": {},
   "outputs": [],
   "source": [
    "restaurant_id = \"5b2932a0f5e9d70039787cf2\"\n",
    "\n",
    "\n",
    "def get_details(restaurant_id, auth):    \n",
    "    pass"
   ]
  },
  {
   "cell_type": "code",
   "execution_count": 36,
   "metadata": {},
   "outputs": [],
   "source": [
    "details = get_details(restaurant_id, auth)\n",
    "details\n",
    "\n",
    "# {'meta': {'code': 200, 'requestId': '5e3ef002d03993001b5fdd0f'},\n",
    "#  'response': {'venue': {'id': '5b2932a0f5e9d70039787cf2',\n",
    "#    'name': 'Los Tacos Al Pastor',\n",
    "#    'contact': {'phone': '3479160190', 'formattedPhone': '(347) 916-0190'},\n",
    "#    'location': {'address': '141 Front St',\n",
    "#     'lat': 40.70243624175102,\n",
    "#     'lng': -73.98753900608666,\n",
    "#     'labeledLatLngs': [{'label': 'display',\n",
    "#       'lat': 40.70243624175102,\n",
    "#       'lng': -73.98753900608666}],\n",
    "#     'postalCode': '11201',\n",
    "#     'cc': 'US',\n",
    "#     'neighborhood': 'DUMBO',\n",
    "#     'city': 'New York',\n",
    "# ..."
   ]
  },
  {
   "cell_type": "markdown",
   "metadata": {},
   "source": [
    "2. Write a function that retrieves the number of likes from an individual restaurant."
   ]
  },
  {
   "cell_type": "code",
   "execution_count": 37,
   "metadata": {},
   "outputs": [],
   "source": [
    "def extract_likes(venue):\n",
    "    pass"
   ]
  },
  {
   "cell_type": "code",
   "execution_count": 164,
   "metadata": {},
   "outputs": [],
   "source": [
    "# extract_rating(details)\n",
    "# {'rating': 8.2, 'signals': 60, 'likes_count': 45}"
   ]
  },
  {
   "cell_type": "markdown",
   "metadata": {},
   "source": [
    "3. Write a function that takes a query, and returns the restaurant name, location, and id, and rating. \n",
    "> The list of dictionaries should be sorted by the rating\n",
    "\n"
   ]
  },
  {
   "cell_type": "code",
   "execution_count": 144,
   "metadata": {},
   "outputs": [
    {
     "data": {
      "text/plain": [
       "{'ll': '40.7,-74', 'query': 'tacos'}"
      ]
     },
     "execution_count": 144,
     "metadata": {},
     "output_type": "execute_result"
    }
   ],
   "source": [
    "params"
   ]
  },
  {
   "cell_type": "code",
   "execution_count": 39,
   "metadata": {},
   "outputs": [],
   "source": [
    "def find_and_sort(auth, params):\n",
    "    pass"
   ]
  },
  {
   "cell_type": "code",
   "execution_count": 217,
   "metadata": {},
   "outputs": [],
   "source": [
    "# sorted_vens[:5]\n",
    "\n",
    "# [{'id': '5196b9ff498e8a6be4336a03',\n",
    "#   'name': 'Los Tacos No. 1',\n",
    "#   'location': [40.74224400629671, -74.00596115738153],\n",
    "#   'likes': 1524},\n",
    "#  {'id': '59580ce6db1d8148fee3d383',\n",
    "#   'name': 'Los Tacos No. 1',\n",
    "#   'location': [40.757237, -73.987454],\n",
    "#   'likes': 515},\n",
    "#  {'id': '542f62bc498ee31baa1395cb',\n",
    "#   'name': \"Rocco's Tacos and Tequila Bar Brooklyn\",\n",
    "#   'location': [40.693277341475834, -73.98868115958473],\n",
    "#   'likes': 293},\n",
    "#  {'id': '4c9521df82b56dcbc5fbd5aa',\n",
    "#   'name': 'Tacos El Bronco',\n",
    "#   'location': [40.652097, -74.003069],\n",
    "#   'likes': 170},\n",
    "#  {'id': '4a87839bf964a520940420e3',\n",
    "#   'name': 'Tacos El Bronco',\n",
    "#   'location': [40.651670871816826, -74.00353363074488],\n",
    "#   'likes': 109}]"
   ]
  },
  {
   "cell_type": "markdown",
   "metadata": {},
   "source": [
    "4. Write a function to take a search query, and then plot the top results in a map with the folium library"
   ]
  }
 ],
 "metadata": {
  "kernelspec": {
   "display_name": "Python 3",
   "language": "python",
   "name": "python3"
  },
  "language_info": {
   "codemirror_mode": {
    "name": "ipython",
    "version": 3
   },
   "file_extension": ".py",
   "mimetype": "text/x-python",
   "name": "python",
   "nbconvert_exporter": "python",
   "pygments_lexer": "ipython3",
   "version": "3.7.4"
  }
 },
 "nbformat": 4,
 "nbformat_minor": 4
}
