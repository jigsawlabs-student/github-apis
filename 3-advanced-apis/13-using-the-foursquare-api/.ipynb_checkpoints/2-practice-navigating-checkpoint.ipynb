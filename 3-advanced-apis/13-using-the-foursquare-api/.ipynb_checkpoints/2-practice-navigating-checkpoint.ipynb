{
 "cells": [
  {
   "cell_type": "markdown",
   "metadata": {},
   "source": [
    "# Exploring Foursquare Lab"
   ]
  },
  {
   "cell_type": "markdown",
   "metadata": {},
   "source": [
    "### Introduction"
   ]
  },
  {
   "cell_type": "markdown",
   "metadata": {},
   "source": [
    "Ok, so in the last lesson, we signed up for Foursquare's API.  The end result of this was collecting our `client id` and our `client secret` keys.  If you need to find them again, just google for Foursquare API, and login.  Then in the top right hand corner, hover over your profile name and click on My Apps."
   ]
  },
  {
   "cell_type": "markdown",
   "metadata": {},
   "source": [
    "But for now, let's put that aside.  Instead, click on the `Docs` link just to the left of your name. "
   ]
  },
  {
   "cell_type": "markdown",
   "metadata": {},
   "source": [
    "### Using the API"
   ]
  },
  {
   "cell_type": "markdown",
   "metadata": {},
   "source": [
    "Let's start by copying over the URL that Foursquare provided us in the documentation [here](https://location.foursquare.com/developer/reference/place-details)."
   ]
  },
  {
   "cell_type": "markdown",
   "metadata": {},
   "source": [
    "1. Write a function that returns the root url for search."
   ]
  },
  {
   "cell_type": "code",
   "execution_count": 1,
   "metadata": {},
   "outputs": [],
   "source": [
    "import requests\n",
    "\n",
    "def search_url():\n",
    "    pass"
   ]
  },
  {
   "cell_type": "code",
   "execution_count": 2,
   "metadata": {},
   "outputs": [],
   "source": [
    "search_url()\n",
    "# \"https://api.foursquare.com/v3/places/search\""
   ]
  },
  {
   "cell_type": "markdown",
   "metadata": {},
   "source": [
    "2. Querying Params"
   ]
  },
  {
   "cell_type": "markdown",
   "metadata": {},
   "source": [
    "Now write a function that will take in a dictionary of parameters (which you can see below) and then return the paramters string -- with each set of parameters separated by a `&`."
   ]
  },
  {
   "cell_type": "code",
   "execution_count": 3,
   "metadata": {},
   "outputs": [],
   "source": [
    "def params_string(params):\n",
    "    pass\n",
    "\n",
    "\n",
    "params = {'ll': \"40.7,-74\", \"query\": \"tacos\"}\n",
    "params_string(params)\n",
    "# 'll=40.7,-74&query=tacos'"
   ]
  },
  {
   "cell_type": "markdown",
   "metadata": {},
   "source": [
    "3. Constructing the full string"
   ]
  },
  {
   "cell_type": "markdown",
   "metadata": {},
   "source": [
    "Ok, now let's write a function that calls the `search_url` function to return the root_url, and calls the params string function to return the full url."
   ]
  },
  {
   "cell_type": "code",
   "execution_count": 4,
   "metadata": {},
   "outputs": [],
   "source": [
    "import requests\n",
    "\n",
    "def query_venues_url(params):\n",
    "    pass"
   ]
  },
  {
   "cell_type": "code",
   "execution_count": 12,
   "metadata": {},
   "outputs": [
    {
     "data": {
      "text/plain": [
       "'https://api.foursquare.com/v3/places/search?ll=40.7,-74&query=tacos'"
      ]
     },
     "execution_count": 12,
     "metadata": {},
     "output_type": "execute_result"
    }
   ],
   "source": [
    "query_venues_url(params)\n",
    "# 'https://api.foursquare.com/v3/places/search?v=20190407&ll=40.7,-74&query=tacos'"
   ]
  },
  {
   "cell_type": "markdown",
   "metadata": {},
   "source": [
    "6. Querying the API"
   ]
  },
  {
   "cell_type": "code",
   "execution_count": 5,
   "metadata": {},
   "outputs": [],
   "source": [
    "import requests \n",
    "def query_api(params):\n",
    "    pass"
   ]
  },
  {
   "cell_type": "code",
   "execution_count": 17,
   "metadata": {},
   "outputs": [],
   "source": [
    "result = query_api(params)\n",
    "# result\n",
    "# {'results': [{'fsq_id': '5d5f24ec09484500079aee00',\n",
    "#    'categories': [{'id': 13306,\n",
    "#      'name': 'Taco Restaurant',\n",
    "#      'icon': {'prefix': 'https://ss3.4sqi.net/img/categories_v2/food/taco_',\n",
    "#       'suffix': '.png'}}],"
   ]
  },
  {
   "cell_type": "markdown",
   "metadata": {},
   "source": [
    "7. Query venues"
   ]
  },
  {
   "cell_type": "markdown",
   "metadata": {},
   "source": [
    "Now write a method that only returns a list of venues."
   ]
  },
  {
   "cell_type": "code",
   "execution_count": 6,
   "metadata": {},
   "outputs": [],
   "source": [
    "def venue_search(params):\n",
    "    pass"
   ]
  },
  {
   "cell_type": "code",
   "execution_count": null,
   "metadata": {},
   "outputs": [],
   "source": [
    "venues = venue_search(params)\n",
    "\n",
    "venue = venues[0]\n",
    "venue\n",
    "# {'fsq_id': '5d5f24ec09484500079aee00',\n",
    "#  'categories': [{'id': 13306,\n",
    "#    'name': 'Taco Restaurant',\n",
    "#    'icon': {'prefix': 'https://ss3.4sqi.net/img/categories_v2/food/taco_',\n",
    "#     'suffix': '.png'}}],\n",
    "#  'chains': [],\n",
    "#  'distance': 1748,\n",
    "#  'geocodes': {'main': {'latitude': 40.714345, 'longitude': -74.008688},\n",
    "#   'roof': {'latitude': 40.714345, 'longitude': -74.008688}},\n",
    "#  'link': '/v3/places/5d5f24ec09484500079aee00',\n",
    "#  'location': {'address': '136 Church St',"
   ]
  },
  {
   "cell_type": "markdown",
   "metadata": {},
   "source": [
    "8. Write a method that will take a venue, and just return the id, name, and location as values -- where the id from the api comes from the `fsq_id`."
   ]
  },
  {
   "cell_type": "code",
   "execution_count": 8,
   "metadata": {},
   "outputs": [],
   "source": [
    "def extract_details_from_venue(venue):\n",
    "    pass"
   ]
  },
  {
   "cell_type": "code",
   "execution_count": 10,
   "metadata": {},
   "outputs": [],
   "source": [
    "extract_details_from_venue(venue)\n",
    "# {'id': '5b2932a0f5e9d70039787cf2',\n",
    "#  'name': 'Los Tacos Al Pastor',\n",
    "#  'location': [40.70243624175102, -73.98753900608666]}"
   ]
  },
  {
   "cell_type": "markdown",
   "metadata": {},
   "source": [
    "9. Now write a function that does this for a list of venues."
   ]
  },
  {
   "cell_type": "code",
   "execution_count": 11,
   "metadata": {},
   "outputs": [],
   "source": [
    "def extract_details_from_venues(venues):\n",
    "    pass"
   ]
  },
  {
   "cell_type": "code",
   "execution_count": 53,
   "metadata": {},
   "outputs": [
    {
     "data": {
      "text/plain": [
       "[{'id': '5d5f24ec09484500079aee00',\n",
       "  'name': 'Los Tacos No 1 Church',\n",
       "  'location': [40.714345, -74.008688]},\n",
       " {'id': '61d5d22d8882c054d234c406',\n",
       "  'name': 'Los Tacos No. 1',\n",
       "  'location': [40.726168, -73.99466]},\n",
       " {'id': '4c38ced2ae2da593576301c6',\n",
       "  'name': 'Tacombi',\n",
       "  'location': [40.723916, -73.993876]},\n",
       " {'id': '5519c8d2498e63bcb8cf4f58',\n",
       "  'name': \"Chilo's\",\n",
       "  'location': [40.6883, -73.956838]}]"
      ]
     },
     "execution_count": 53,
     "metadata": {},
     "output_type": "execute_result"
    }
   ],
   "source": [
    "extract_details_from_venues(venues)[:4]\n",
    "# [{'id': '5d5f24ec09484500079aee00',\n",
    "#   'name': 'Los Tacos No 1 Church',\n",
    "#   'location': [40.714345, -74.008688]},\n",
    "#  {'id': '61d5d22d8882c054d234c406',\n",
    "#   'name': 'Los Tacos No. 1',\n",
    "#   'location': [40.726168, -73.99466]},\n",
    "#  {'id': '4c38ced2ae2da593576301c6',\n",
    "#   'name': 'Tacombi',\n",
    "#   'location': [40.723916, -73.993876]},\n",
    "#  {'id': '5519c8d2498e63bcb8cf4f58',\n",
    "#   'name': \"Chilo's\",\n",
    "#   'location': [40.6883, -73.956838]}]"
   ]
  },
  {
   "cell_type": "markdown",
   "metadata": {},
   "source": [
    "### Working with an Individual Venue"
   ]
  },
  {
   "cell_type": "markdown",
   "metadata": {},
   "source": [
    "1. Write a function that retrieves the details of an individual restaurant"
   ]
  },
  {
   "cell_type": "code",
   "execution_count": 12,
   "metadata": {},
   "outputs": [],
   "source": [
    "restaurant_id = \"5b2932a0f5e9d70039787cf2\"\n",
    "def get_details(restaurant_id):\n",
    "    pass"
   ]
  },
  {
   "cell_type": "code",
   "execution_count": 75,
   "metadata": {},
   "outputs": [
    {
     "data": {
      "text/plain": [
       "{'fsq_id': '5b2932a0f5e9d70039787cf2',\n",
       " 'categories': [{'id': 13306,\n",
       "   'name': 'Taco Restaurant',\n",
       "   'icon': {'prefix': 'https://ss3.4sqi.net/img/categories_v2/food/taco_',\n",
       "    'suffix': '.png'}}],\n",
       " 'chains': [],\n",
       " 'geocodes': {'main': {'latitude': 40.702628, 'longitude': -73.987366},\n",
       "  'roof': {'latitude': 40.702628, 'longitude': -73.987366}},\n",
       " 'link': '/v3/places/5b2932a0f5e9d70039787cf2',\n",
       " 'location': {'address': '141 Front St',\n",
       "  'census_block': '360470021002009',\n",
       "  'country': 'US',\n",
       "  'cross_street': 'Pearl St',\n",
       "  'dma': 'New York',\n",
       "  'formatted_address': '141 Front St (Pearl St), New York, NY 11201',\n",
       "  'locality': 'New York',\n",
       "  'postcode': '11201',\n",
       "  'region': 'NY'},\n",
       " 'name': 'Los Tacos Al Pastor',\n",
       " 'related_places': {},\n",
       " 'timezone': 'America/New_York'}"
      ]
     },
     "execution_count": 75,
     "metadata": {},
     "output_type": "execute_result"
    }
   ],
   "source": [
    "venue_details = get_details(restaurant_id)\n",
    "venue_details\n",
    "\n",
    "# {'fsq_id': '5b2932a0f5e9d70039787cf2',\n",
    "#  'categories': [{'id': 13306,\n",
    "#    'name': 'Taco Restaurant',\n",
    "#    'icon': {'prefix': 'https://ss3.4sqi.net/img/categories_v2/food/taco_',\n",
    "#     'suffix': '.png'}}],\n",
    "#  'chains': [],\n",
    "#  'geocodes': {'main': {'latitude': 40.702628, 'longitude': -73.987366},\n",
    "#   'roof': {'latitude': 40.702628, 'longitude': -73.987366}},\n",
    "#  'link': '/v3/places/5b2932a0f5e9d70039787cf2',\n",
    "#  'location': {'address': '141 Front St',\n",
    "#   'census_block': '360470021002009',\n",
    "#   'country': 'US',\n",
    "#   'cross_street': 'Pearl St',\n",
    "#   'dma': 'New York',\n",
    "#   'formatted_address': '141 Front St (Pearl St), New York, NY 11201',\n",
    "#   'locality': 'New York',\n",
    "#   'postcode': '11201',\n",
    "#   'region': 'NY'},\n",
    "#  'name': 'Los Tacos Al Pastor',\n",
    "#  'related_places': {},\n",
    "#  'timezone': 'America/New_York'}\n"
   ]
  },
  {
   "cell_type": "markdown",
   "metadata": {},
   "source": [
    "2. Write a function that retrieves the list of categories from an individual restaurant."
   ]
  },
  {
   "cell_type": "code",
   "execution_count": 13,
   "metadata": {},
   "outputs": [],
   "source": [
    "def extract_categories(venue):\n",
    "    pass"
   ]
  },
  {
   "cell_type": "code",
   "execution_count": 85,
   "metadata": {},
   "outputs": [
    {
     "data": {
      "text/plain": [
       "['Taco Restaurant']"
      ]
     },
     "execution_count": 85,
     "metadata": {},
     "output_type": "execute_result"
    }
   ],
   "source": [
    "extract_categories(venue_details)\n",
    "# ['Taco Restaurant']"
   ]
  },
  {
   "cell_type": "markdown",
   "metadata": {},
   "source": [
    "3. Write a function that takes a query, and returns the restaurant name, location, and id, and list of categories. \n",
    "> The list of dictionaries should be sorted by the id of each venue\n",
    "\n"
   ]
  },
  {
   "cell_type": "code",
   "execution_count": 14,
   "metadata": {},
   "outputs": [],
   "source": [
    "def find_and_sort(params):\n",
    "    pass"
   ]
  },
  {
   "cell_type": "code",
   "execution_count": 16,
   "metadata": {},
   "outputs": [],
   "source": [
    "sorted_vens = find_and_sort(params)\n",
    "sorted_vens[:5]\n",
    "\n",
    "# [{'id': '474d9e49f964a520ad4c1fe3',\n",
    "#   'name': 'Mexico 2000 Restaurant',\n",
    "#   'location': [40.707653, -73.954966],\n",
    "#   'categories': ['Diner', 'Taco Restaurant', 'Tex-Mex Restaurant']},\n",
    "#  {'id': '4c38ced2ae2da593576301c6',\n",
    "#   'name': 'Tacombi',\n",
    "#   'location': [40.723916, -73.993876],\n",
    "#   'categories': ['Burger Joint',\n",
    "#    'Latin American Restaurant',\n",
    "#    'Taco Restaurant']},\n",
    "#  {'id': '5196b9ff498e8a6be4336a03',\n",
    "#   'name': 'Los Tacos No. 1',\n",
    "#   'location': [40.742361, -74.005957],\n",
    "#   'categories': ['Fast Food Restaurant',\n",
    "#    'Latin American Restaurant',\n",
    "#    'Taco Restaurant']},\n",
    "#  {'id': '5519c8d2498e63bcb8cf4f58',\n",
    "#   'name': \"Chilo's\",\n",
    "#   'location': [40.6883, -73.956838],\n",
    "#   'categories': ['Bar', 'Taco Restaurant']},\n",
    "#  {'id': '59580ce6db1d8148fee3d383',\n",
    "#   'name': 'Los Tacos No. 1',\n",
    "#   'location': [40.757272, -73.98737],\n",
    "#   'categories': ['Fast Food Restaurant',\n",
    "#    'Latin American Restaurant',\n",
    "#    'Taco Restaurant']}]"
   ]
  },
  {
   "cell_type": "markdown",
   "metadata": {},
   "source": [
    "4. Write a function to take a search query, and then plot the top results in a map with the folium library"
   ]
  }
 ],
 "metadata": {
  "kernelspec": {
   "display_name": "Python 3 (ipykernel)",
   "language": "python",
   "name": "python3"
  },
  "language_info": {
   "codemirror_mode": {
    "name": "ipython",
    "version": 3
   },
   "file_extension": ".py",
   "mimetype": "text/x-python",
   "name": "python",
   "nbconvert_exporter": "python",
   "pygments_lexer": "ipython3",
   "version": "3.10.6"
  }
 },
 "nbformat": 4,
 "nbformat_minor": 4
}
