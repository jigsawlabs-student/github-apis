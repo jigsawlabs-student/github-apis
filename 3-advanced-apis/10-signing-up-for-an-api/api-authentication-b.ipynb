{
 "cells": [
  {
   "cell_type": "markdown",
   "metadata": {},
   "source": [
    "# Navigating Foursquare's API"
   ]
  },
  {
   "cell_type": "markdown",
   "metadata": {},
   "source": [
    "First, let's try to search for some venues.  Looking at the documentation, click on Places API to expand the dropdown, then Venues, and then finally Get Venue Recommendations."
   ]
  },
  {
   "cell_type": "markdown",
   "metadata": {},
   "source": [
    "<img src=\"https://storage.googleapis.com/curriculum-assets/curriculum-assets.nosync/introduction-to-apis/12-signing-up-for-an-api/venue-recommendations.png\" width=\"40%\" /> "
   ]
  },
  {
   "cell_type": "markdown",
   "metadata": {},
   "source": [
    "Once on [that page](https://developer.foursquare.com/docs/api/venues/explore), you'll see a description followed by an example of the request url that we need to make.  Let's try to use that URL to make our request."
   ]
  },
  {
   "cell_type": "markdown",
   "metadata": {},
   "source": [
    "<img src=\"https://storage.googleapis.com/curriculum-assets/curriculum-assets.nosync/introduction-to-apis/12-signing-up-for-an-api/example-venues.png\" width=\"40%\"> "
   ]
  },
  {
   "cell_type": "code",
   "execution_count": 31,
   "metadata": {},
   "outputs": [
    {
     "data": {
      "text/plain": [
       "{'meta': {'code': 400,\n",
       "  'errorType': 'invalid_auth',\n",
       "  'errorDetail': 'Missing access credentials. See https://developer.foursquare.com/docs/api/configuration/authentication for details.',\n",
       "  'requestId': '5caab80a4c1f671632f5b23a'},\n",
       " 'response': {}}"
      ]
     },
     "execution_count": 31,
     "metadata": {},
     "output_type": "execute_result"
    }
   ],
   "source": [
    "import requests\n",
    "response = requests.get(\"https://api.foursquare.com/v2/venues/explore\")\n",
    "response.json()"
   ]
  },
  {
   "cell_type": "markdown",
   "metadata": {},
   "source": [
    "Oh no :( So this tells us that we have an error because of invalid authorization, but it does give us a link to learn more.  Let's [go there](https://developer.foursquare.com/docs/api/configuration/authentication)."
   ]
  },
  {
   "cell_type": "markdown",
   "metadata": {},
   "source": [
    "<img src=\"https://storage.googleapis.com/curriculum-assets/curriculum-assets.nosync/introduction-to-apis/12-signing-up-for-an-api/user-auth.png\" width=\"60%\"> "
   ]
  },
  {
   "cell_type": "markdown",
   "metadata": {},
   "source": [
    "So there are basically two different kinds of authentication: Userless Auth and User Auth.  It says the userless one doesn't require a user's permissions, and the user auth is when need a user to get checkins.  It seems like we need the simpler one -- after all we're just looking for venue info.  \n",
    "\n",
    "Let's look at the Userless Auth URL.  It says to specify our Client ID and Secret in the following format:\n",
    "\n",
    "`\"https://api.foursquare.com/v2/venues/search?ll=40.7,-74&client_id=CLIENT_ID&client_secret=CLIENT_SECRET&v=YYYYMMDD\"`"
   ]
  },
  {
   "cell_type": "markdown",
   "metadata": {},
   "source": [
    "Ok, so here's the main thing to realize: everything after the question mark is a query parameter.  Let's see this as we break down the url in full."
   ]
  },
  {
   "cell_type": "markdown",
   "metadata": {},
   "source": [
    "* \"https://api.foursquare.com\" is our root url.\n",
    "* \"/v2/\" is for version 2 of the API\n",
    "* \"/venues/search\" is for searching the resource, venues.\n",
    "* \"?\", as we know marks the beginning of our query parameters.\n",
    "\n",
    "With the query parameters, note that we have a series of `field=value` pairings.  Notice that there is an `&` between each `field=value` pairing.\n",
    "\n",
    "The first field, `ll` is for the longitude and latitude that we want to search for venues.  Then the `client_id` and client secret is that client id that we were given after we registered.  Finally, the `v=YYYYMMDD` is a version, where Foursquare asks us to place in the current day."
   ]
  },
  {
   "cell_type": "markdown",
   "metadata": {},
   "source": [
    "## Going further on client id and client secret "
   ]
  },
  {
   "cell_type": "markdown",
   "metadata": {},
   "source": [
    "Let's take a minute to discuss the client id and client secret, as these are common components to many APIs.  Remember that both the client id and the client secret were provided to us after we filled out information to register for an account.  Well, the client id is essentially our user name and the client secret the password.  By passing this information along with the request, Foursquare is able to tell who we are, and that we are an approved user.\n",
    "\n",
    "Ok, it's time to try to use this API."
   ]
  }
 ],
 "metadata": {
  "kernelspec": {
   "display_name": "Python 3 (ipykernel)",
   "language": "python",
   "name": "python3"
  },
  "language_info": {
   "codemirror_mode": {
    "name": "ipython",
    "version": 3
   },
   "file_extension": ".py",
   "mimetype": "text/x-python",
   "name": "python",
   "nbconvert_exporter": "python",
   "pygments_lexer": "ipython3",
   "version": "3.10.6"
  }
 },
 "nbformat": 4,
 "nbformat_minor": 4
}
