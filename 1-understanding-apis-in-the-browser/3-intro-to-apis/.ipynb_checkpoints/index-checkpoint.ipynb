{
 "cells": [
  {
   "cell_type": "markdown",
   "metadata": {},
   "source": [
    "# Data in an instant"
   ]
  },
  {
   "cell_type": "markdown",
   "metadata": {},
   "source": [
    "As we know, part of the reason data science skills have become so important is because of the amount of information available on the Internet.  Data scientists have the skills to precisely target the information relevant to them and then analyze that data."
   ]
  },
  {
   "cell_type": "markdown",
   "metadata": {},
   "source": [
    "### Let's get to it"
   ]
  },
  {
   "cell_type": "markdown",
   "metadata": {},
   "source": [
    "Now getting the proper information can be fairly easy, and even automated once we have the right knowledge and skills.\n",
    "\n",
    "For example, this is all of the code it takes to ask for Google for information about a specific book. "
   ]
  },
  {
   "cell_type": "markdown",
   "metadata": {},
   "source": [
    "```python\n",
    "import requests\n",
    "response = requests.get(\"https://www.googleapis.com/books/v1/volumes?q=tom%20sawyer\")\n",
    "response.json()\n",
    "```"
   ]
  },
  {
   "cell_type": "markdown",
   "metadata": {},
   "source": [
    "And Google sends us back the following information (and a lot more)."
   ]
  },
  {
   "cell_type": "markdown",
   "metadata": {},
   "source": [
    "```python\n",
    "{'kind': 'books#volume',\n",
    " 'id': 'OR46AQAAIAAJ',\n",
    " 'etag': '+UMtOjnJUu0',\n",
    " 'selfLink': 'https://www.googleapis.com/books/v1/volumes/OR46AQAAIAAJ',\n",
    " 'volumeInfo': {'title': 'The Adventures of Tom Sawyer',\n",
    "  'authors': ['Mark Twain'],\n",
    "  'publishedDate': '1920',\n",
    "  'industryIdentifiers': [{'type': 'OTHER',\n",
    "    'identifier': 'STANFORD:36105047945816'}],\n",
    "  'readingModes': {'text': False, 'image': True},\n",
    "  'pageCount': 290,\n",
    "  'printType': 'BOOK',\n",
    "  'categories': ['Sawyer, Tom (Fictitious character)'],\n",
    "  'averageRating': 4.5,\n",
    "  'ratingsCount': 3,\n",
    "  'maturityRating': 'NOT_MATURE',\n",
    "  'allowAnonLogging': False,\n",
    "  'contentVersion': '0.2.1.0.full.1',\n",
    "  'imageLinks': {'smallThumbnail': 'http://books.google.com/books/content?id=OR46AQAAIAAJ&printsec=frontcover&img=1&zoom=5&edge=curl&source=gbs_api'}\n",
    "               }\n",
    " ```"
   ]
  },
  {
   "cell_type": "markdown",
   "metadata": {},
   "source": [
    "Now we'll go through each of those words step by step.  But for now, just appreciate the information that we can get from Google when we type in this information successfully.  We can find information about the page count, when it was published, the and the author.\n",
    "\n",
    "And we can do this with just typing 8 words into our program.  And they weren't even very big words."
   ]
  },
  {
   "cell_type": "markdown",
   "metadata": {},
   "source": [
    "### Different Kinds of APIs"
   ]
  },
  {
   "cell_type": "markdown",
   "metadata": {},
   "source": [
    "What we just saw is example of an API.  An API is one of the main ways that a data scientist can access data.  \n",
    "\n",
    "> An **API** stands for Application Programming Interface.  It is a software program built by companies to allow developers to access their data as well as other interactions with their program.  For example, we just saw an example of how the Google books api gives us information about books.  "
   ]
  },
  {
   "cell_type": "markdown",
   "metadata": {},
   "source": [
    "A variety of companies give us access to data through APIs.  For example: "
   ]
  },
  {
   "cell_type": "markdown",
   "metadata": {},
   "source": [
    "| Company        | Available Data\n",
    "| ------------- |:-------------:|\n",
    "| Youtube      | Channels, Playlists, Videos |\n",
    "| Spotify      | Artists, Songs|\n",
    "| Foursquare        | Business Ratings, Business Checkins|\n",
    "| Twitter        | Tweets, Topics|\n",
    "|NY Times, Google News | Stories, News Topics|\n",
    "|Investors Exchange| Stock Market Data|"
   ]
  },
  {
   "cell_type": "markdown",
   "metadata": {},
   "source": [
    "And as data scientists, once we learn how to collect data from different APIs, we can then combine data to see how different topics relate.  For example:\n",
    "* can Twitter sentiment about a company predict stock prices?  \n",
    "* How about a story in the New York Times?  \n",
    "* Can we look at FourSquare checkins to McDonald's tell us about the NYTimes stock\n",
    "* How much can a musician's instagram postings affect his popularity on Spotify, or on Youtube?  "
   ]
  },
  {
   "cell_type": "markdown",
   "metadata": {},
   "source": [
    "And we have not even mentioned APIs that will allow us to connect our internal data, like information on different Google documents, or banking data or credit card companies.\n",
    "\n",
    "> Of course we will have to provide security credentials to access this information just like we would when we login."
   ]
  },
  {
   "cell_type": "markdown",
   "metadata": {},
   "source": [
    "## All APIs operate in similar ways"
   ]
  },
  {
   "cell_type": "markdown",
   "metadata": {},
   "source": [
    "What's nice about APIs is not only that there are a lot of them, but we access each of them in similar ways.  For example, this is how we accessed the Google Books API."
   ]
  },
  {
   "cell_type": "markdown",
   "metadata": {},
   "source": [
    "```python\n",
    "import requests\n",
    "response = requests.get(\"https://www.googleapis.com/books/v1/volumes?q=tom%20sawyer\")\n",
    "response.json()\n",
    "```"
   ]
  },
  {
   "cell_type": "markdown",
   "metadata": {},
   "source": [
    "And if we want to access the FourSquare API to get information on nearby restaurants, we can do so with the following four lines."
   ]
  },
  {
   "cell_type": "markdown",
   "metadata": {},
   "source": [
    "```python\n",
    "import requests\n",
    "response = requests.get(\"https://api.foursquare.com/v2/venues/explore/?near=nyc&section=food&client_id=YZQZP1Q2HEJWMD5ZVBMIQD3VSZC1W4BQCCQTVFEPJWNHL0RK&client_secret=ORHPL2VKKHUTB3KTJVDTB4D20AXBRCFKWVL12EPQNJNDFYBX&v=20131124\")\n",
    "response.json()\n",
    "\n",
    "```"
   ]
  },
  {
   "cell_type": "markdown",
   "metadata": {},
   "source": [
    "Those four lines give us information about 246 restaurants in NYC."
   ]
  },
  {
   "cell_type": "markdown",
   "metadata": {},
   "source": [
    "## Now for our questions"
   ]
  },
  {
   "cell_type": "markdown",
   "metadata": {},
   "source": [
    "The problem of course, is that we cannot really understand any of the code above, so if we ever want to change things around and search for information on our own, we would likely get stuck.  We also don't really know what an API is, other than it could be a nice way to access data from other websites.\n",
    "\n",
    "All true. So let's take one last look at our Google Books API code.  We'll use it to generate questions that we need to answer going forward.\n",
    "\n",
    "```python\n",
    "import requests\n",
    "response = requests.get(\"https://www.googleapis.com/books/v1/volumes?q=tom%20sawyer\")\n",
    "response.json()\n",
    "```"
   ]
  },
  {
   "cell_type": "markdown",
   "metadata": {},
   "source": [
    "**Our Questions**\n",
    "\n",
    "1. What is that `\"https://www.googleapis.com/books/v1/volumes?q=tom%20sawyer\"`, and how would we know that this has the information we want?\n",
    "2. In the line above, what does `import` and `requests` mean, and what does `response` mean?\n",
    "3. What is `get` and what is `json`?\n",
    "4. Finally how do we make sense and navigate those squiggly lines and text that Google sent back, like the following beauty: \n",
    "\n",
    "`{'kind': 'books#volume', 'id': 'OR46AQAAIAAJ'}`.\n",
    "5. And how do we actually code?"
   ]
  },
  {
   "cell_type": "markdown",
   "metadata": {},
   "source": [
    "### Summary"
   ]
  },
  {
   "cell_type": "markdown",
   "metadata": {},
   "source": [
    "In the lesson we saw some of the potential benefits of working with APIs.  API stands for application programming interface and its main use for us is that companies make some of their data available to us through APIs.  And as data scientists we use the data from multiple APIs to see how different data relates.  We also saw that we can access various APIs with similar code, making it easier for us to access this information.\n",
    "\n",
    "But finally we are still left with more questions that answers about the details of APIs.  Let's tackle these questions in the next set of lessons."
   ]
  },
  {
   "cell_type": "markdown",
   "metadata": {},
   "source": [
    "### Resources"
   ]
  },
  {
   "cell_type": "markdown",
   "metadata": {},
   "source": [
    "[List of popular APIs, organized by topic](https://github.com/toddmotto/public-apis)\n",
    "\n",
    "[Blog post about top APIs](https://medium.com/@benjamin_libor/a-curated-collection-of-over-150-apis-to-build-great-products-fdcfa0f361bc)"
   ]
  }
 ],
 "metadata": {
  "kernelspec": {
   "display_name": "Python 3 (ipykernel)",
   "language": "python",
   "name": "python3"
  },
  "language_info": {
   "codemirror_mode": {
    "name": "ipython",
    "version": 3
   },
   "file_extension": ".py",
   "mimetype": "text/x-python",
   "name": "python",
   "nbconvert_exporter": "python",
   "pygments_lexer": "ipython3",
   "version": "3.10.6"
  }
 },
 "nbformat": 4,
 "nbformat_minor": 4
}
