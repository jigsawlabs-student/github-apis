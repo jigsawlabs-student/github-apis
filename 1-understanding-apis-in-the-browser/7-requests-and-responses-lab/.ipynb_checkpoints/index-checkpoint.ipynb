{
 "cells": [
  {
   "cell_type": "markdown",
   "metadata": {},
   "source": [
    "# Developer Tools with APIs"
   ]
  },
  {
   "cell_type": "markdown",
   "metadata": {},
   "source": [
    "### Introduction\n",
    "\n",
    "Now that we know a little bit about working with developer tools, let's use them with the Google Books API. "
   ]
  },
  {
   "cell_type": "markdown",
   "metadata": {},
   "source": [
    "### Making Requests with the API"
   ]
  },
  {
   "cell_type": "markdown",
   "metadata": {},
   "source": [
    "Start off by making requests with the API.  You can visit the API either by [clicking here](https://developers.google.com/books/docs/v1/reference/volumes/list), or by searching Google for `developers.google volumes list`. "
   ]
  },
  {
   "cell_type": "markdown",
   "metadata": {},
   "source": [
    "From there, click the dotted square to get to the following screen."
   ]
  },
  {
   "cell_type": "markdown",
   "metadata": {},
   "source": [
    "<img src=\"./screen.png\" />"
   ]
  },
  {
   "cell_type": "markdown",
   "metadata": {},
   "source": [
    "Type in a search term in the `q` field, and click on the panel that says `HTTP`.  That URL after the word `GET` what we want.  Copy and paste that URL into the browser."
   ]
  },
  {
   "cell_type": "markdown",
   "metadata": {},
   "source": [
    "### Working with the Developer Tools"
   ]
  },
  {
   "cell_type": "markdown",
   "metadata": {},
   "source": [
    "After copying and pasting the URL in a different tab in the browser, bring up the developer tools by right clicking (or two finger clicking on a Mac) and then selecting `inspect`."
   ]
  },
  {
   "cell_type": "markdown",
   "metadata": {},
   "source": [
    "<img src=\"./developer-tools.png\"> "
   ]
  },
  {
   "cell_type": "markdown",
   "metadata": {},
   "source": [
    "### Inspecting the Request"
   ]
  },
  {
   "cell_type": "markdown",
   "metadata": {},
   "source": [
    "Now use the developer tools to do the following."
   ]
  },
  {
   "cell_type": "markdown",
   "metadata": {},
   "source": [
    "1. What is the `request url`, and `Request Method`.\n",
    "2. Explain why the `Request Method` makes sense.  When would it be different?\n",
    "3. What do you think the `remote address` indicates?  Copy and paste `remote address` numbers, paste them into your browser's address bar, and press `enter`."
   ]
  },
  {
   "cell_type": "markdown",
   "metadata": {},
   "source": [
    "### Inspecting the Response"
   ]
  },
  {
   "cell_type": "markdown",
   "metadata": {},
   "source": [
    "Now use the developer tools to inspect the response.\n",
    "\n",
    "First, let's take a look at the metadata that is available to us in the headers.\n",
    "1. What is the `status code` for the response?\n",
    "2. What is the `content type`?\n",
    "\n",
    "Then, view the content, also called the body of the response.  \n",
    "\n",
    "1. What does the data in the response look like?"
   ]
  }
 ],
 "metadata": {
  "kernelspec": {
   "display_name": "Python 3 (ipykernel)",
   "language": "python",
   "name": "python3"
  },
  "language_info": {
   "codemirror_mode": {
    "name": "ipython",
    "version": 3
   },
   "file_extension": ".py",
   "mimetype": "text/x-python",
   "name": "python",
   "nbconvert_exporter": "python",
   "pygments_lexer": "ipython3",
   "version": "3.10.6"
  }
 },
 "nbformat": 4,
 "nbformat_minor": 4
}
