{
 "cells": [
  {
   "cell_type": "markdown",
   "metadata": {},
   "source": [
    "# Requests and Responses"
   ]
  },
  {
   "cell_type": "markdown",
   "metadata": {},
   "source": [
    "## Introduction\n",
    "\n",
    "In the last lesson, we saw that the URL is how we specify what type of information we would like to receive.  We do this whenever we access a webpage or an API on the Internet.  Now, believe it or not, when we visit a url we ask for more than is just in the URL or web address.  Let's see this."
   ]
  },
  {
   "cell_type": "markdown",
   "metadata": {},
   "source": [
    "## Understanding a web request"
   ]
  },
  {
   "cell_type": "markdown",
   "metadata": {},
   "source": [
    "<img src=\"https://github.com/jigsawlabs/curriculum-assets/blob/master/introduction-to-apis/5-viewing-the-raw-data/request-info.png?raw=true\" width=\"80%\"/>"
   ]
  },
  {
   "cell_type": "markdown",
   "metadata": {},
   "source": [
    "Take a look at the following.  We can view this when visiting ESPN.  And we can see the relevant information in this panel from any website.  Let's explain why this is important, and then we'll get into how we get view this panel in our browser."
   ]
  },
  {
   "cell_type": "markdown",
   "metadata": {},
   "source": [
    "#### Reading the request information"
   ]
  },
  {
   "cell_type": "markdown",
   "metadata": {},
   "source": [
    "1. So the first piece to look at is the term `Request URL`.  This is what we are familiar with.  When we click on a link, or directly enter a web address into our browser, we are specifying a web address from which to receive information.\n",
    "\n",
    "2. The second thing we see is the `Request Method`, which we see here is GET.  There are two main types of Request Methods, GET and POST.  \n",
    "    * We use the **GET** method whenever we are requesting information.  For example, viewing statistics of a player or a team.  Every time we view a person's tweets on twitter is a GET request.\n",
    "    * We use a **POST** request whenever we do something online that changes the website's data.  This generally happens whenever we submit information in a form.  For example, signing up for a website, or sending a tweet. "
   ]
  },
  {
   "cell_type": "markdown",
   "metadata": {},
   "source": [
    "#### Viewing the developer panel"
   ]
  },
  {
   "cell_type": "markdown",
   "metadata": {},
   "source": [
    "Here's how we can view the information about the web request through chrome."
   ]
  },
  {
   "cell_type": "markdown",
   "metadata": {},
   "source": [
    "> 1. First, right click (or two finger click on a Mac) on the web page, and select `Inspect`.  \n",
    "> 2. At the top of the web inspector panel, you'll see a tab that says `Network`, click on that.  This shows the requests that we made to the website.  But it didn't capture the request we initially made to `espn.com` because it was unopened.  \n",
    "> 3. So now with the web inspector open, refresh the page by highlighting the URL and pressing enter (or just try the shortcut CMD+R).  You will see a long line of requests pop up.  \n",
    "> 4. Scroll to the very top of them and the first or second one down will be a request to `www.espn.com`.  \n",
    "> 5. Click on that, and then click on `Headers`."
   ]
  },
  {
   "cell_type": "markdown",
   "metadata": {},
   "source": [
    "If you find the request to `www.espn.com` and when clicking on it, see the pane below, congrats! You made it.  If you can't, no biggie, just look at the image above."
   ]
  },
  {
   "cell_type": "markdown",
   "metadata": {},
   "source": [
    "## Understanding the Response"
   ]
  },
  {
   "cell_type": "markdown",
   "metadata": {},
   "source": [
    "Now when we send a request from our browser, and we have an Internet connection.  This request makes it's way through some wires."
   ]
  },
  {
   "cell_type": "markdown",
   "metadata": {},
   "source": [
    "<img src=\"https://github.com/jigsawlabs/curriculum-assets/blob/master/introduction-to-apis/4-the-request-response-cycle/internet-map.png?raw=true \" width=\"70%\"/>"
   ]
  },
  {
   "cell_type": "markdown",
   "metadata": {},
   "source": [
    "<img src=\"https://github.com/jigsawlabs/curriculum-assets/blob/master/introduction-to-apis/4-the-request-response-cycle/shark-eating-internet.jpg?raw=true\" width=\"50%\">"
   ]
  },
  {
   "cell_type": "markdown",
   "metadata": {},
   "source": [
    "Until it reaches a specific location on a computer that has the information that we requested."
   ]
  },
  {
   "cell_type": "markdown",
   "metadata": {},
   "source": [
    "<img src=\"https://github.com/jigsawlabs/curriculum-assets/blob/master/introduction-to-apis/4-the-request-response-cycle/server-image.jpg?raw=true\" width=\"70%\"/>"
   ]
  },
  {
   "cell_type": "markdown",
   "metadata": {},
   "source": [
    "And one of these computers sends us back that related information.  We can view the raw contents of the data that information from our developer console.  "
   ]
  },
  {
   "cell_type": "markdown",
   "metadata": {},
   "source": [
    "#### Viewing the Response\n",
    "\n",
    "From the same Network tab in the Developer Tools, scroll down a little to see the following."
   ]
  },
  {
   "cell_type": "markdown",
   "metadata": {},
   "source": [
    "<img src=\"response-parsed-panel.png\" width=\"70%\" />"
   ]
  },
  {
   "cell_type": "markdown",
   "metadata": {},
   "source": [
    "Then, in the right panel, click on `view source` on the top right.  We'll see the following."
   ]
  },
  {
   "cell_type": "markdown",
   "metadata": {},
   "source": [
    "<img src=\"response-panel.png\" width=\"70%\"> "
   ]
  },
  {
   "cell_type": "markdown",
   "metadata": {},
   "source": [
    "So what we see there is a part of the information that is sent back to us.  \n",
    "\n",
    "* The `200 OK` is called the `status code`.  A 200 OK, means that our request was successful, and nothing broke on the other end.  A `400` or `404` status code, means that our request was unsuccessful.\n",
    "* Date.  Is when our response was sent back ot us.\n",
    "* Content-Type is the type of content we received.  Here `text/HTML`."
   ]
  },
  {
   "cell_type": "markdown",
   "metadata": {},
   "source": [
    "Let's take a look at some HTML.  In our panel, on the top right handside is the word `Response`.  Click on `Response`."
   ]
  },
  {
   "cell_type": "markdown",
   "metadata": {},
   "source": [
    "<img src=\"./html-content-panel.png\"> "
   ]
  },
  {
   "cell_type": "markdown",
   "metadata": {},
   "source": [
    "Here we see our HTML.  This is content that our browser receives back.  It's just text.  However, browsers like chrome and safari know how to interpret this text to turn it into webpages with different colors and images like those on ESPN."
   ]
  },
  {
   "cell_type": "markdown",
   "metadata": {},
   "source": [
    "## Summary"
   ]
  },
  {
   "cell_type": "markdown",
   "metadata": {},
   "source": [
    "In this lesson, we learned about requests and responses.  \n",
    "\n",
    "We initiate a web request whenever we type in a URL or click on a link.  We can view the web request from our developer tools."
   ]
  },
  {
   "cell_type": "markdown",
   "metadata": {},
   "source": [
    "<img src=\"https://github.com/jigsawlabs/curriculum-assets/blob/master/introduction-to-apis/5-viewing-the-raw-data/request-info.png?raw=true\" width=\"80%\"/>"
   ]
  },
  {
   "cell_type": "markdown",
   "metadata": {},
   "source": [
    "There we can see information like the `Request URL` and that this is a `GET` request.  We said that a `GET` request is the request we make whenever we ask for information.  We make a `POST` request when we submit information in a form that changes the website's data.  Like signing up for a website, which creates a new user, or creating a new tweet on Twitter."
   ]
  },
  {
   "cell_type": "markdown",
   "metadata": {},
   "source": [
    "We also learned about responses.  "
   ]
  },
  {
   "cell_type": "markdown",
   "metadata": {},
   "source": [
    "<img src=\"response-panel.png\" width=\"70%\"> "
   ]
  },
  {
   "cell_type": "markdown",
   "metadata": {},
   "source": [
    "We saw that our response comes with metadata, which we see in the `Headers` tab.  And that this metadata includes information like the `status code` (200 good, 400 bad), and the content-type, in this case `HTML`."
   ]
  }
 ],
 "metadata": {
  "kernelspec": {
   "display_name": "Python 3 (ipykernel)",
   "language": "python",
   "name": "python3"
  },
  "language_info": {
   "codemirror_mode": {
    "name": "ipython",
    "version": 3
   },
   "file_extension": ".py",
   "mimetype": "text/x-python",
   "name": "python",
   "nbconvert_exporter": "python",
   "pygments_lexer": "ipython3",
   "version": "3.10.6"
  }
 },
 "nbformat": 4,
 "nbformat_minor": 4
}
