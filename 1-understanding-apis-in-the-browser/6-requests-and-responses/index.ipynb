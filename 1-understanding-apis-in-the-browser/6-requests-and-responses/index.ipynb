{
 "cells": [
  {
   "cell_type": "markdown",
   "metadata": {},
   "source": [
    "# The request response cycle"
   ]
  },
  {
   "cell_type": "markdown",
   "metadata": {},
   "source": [
    "### Introduction"
   ]
  },
  {
   "cell_type": "markdown",
   "metadata": {},
   "source": [
    "In the last lesson we saw that we can see patterns in how websites on the Internet are organized.  Mainly, websites follow a RESTful pattern, meaning that URLs are used to navigate a resource -- that is a collection of items like sports players, as well as a single member of that collection like a player.  \n",
    "\n",
    "So that information helps out with one that red text.  \n",
    "\n",
    "```python\n",
    "import requests\n",
    "response = requests.get(\"https://www.googleapis.com/books/v1/volumes?q=tom%20sawyer\")\n",
    "response.json()\n",
    "```\n",
    "The next item for us to learn is about what the words `request` and `response` means in the context of the Internet.\n",
    "This explains how, once we type in that URL and press enter, information then comes back to our browser.  To understand this, we need to go into some of the internals of how the Internet works."
   ]
  },
  {
   "cell_type": "markdown",
   "metadata": {},
   "source": [
    "### How a web page gets to our browser"
   ]
  },
  {
   "cell_type": "markdown",
   "metadata": {},
   "source": [
    "We already learned that the key part of getting information from a webpage is by typing in a URL.  When we type in a URL we are really making a **request** for a specific file on a specific computer that is connected to the Internet.  \n",
    "\n",
    "How does this happen?  Well it's actually pretty similar make a phone call from a cellphone.  When you click on a contact in your cell phone, the cell phone uses the related phone number, which is the unique number for the phone on the other end.  Now, websites work similarly.  When you type in a website name like ESPN.com, this gets translated into a long number -- `35.174.157.242` in the case of ESPN -- that is the unique *ip address* of that file.  \n",
    "\n",
    "Just like dialing a phone number finds the correct phone and connects us, when we go to a website we connect by zipping through a bunch of wires and making it to the computer and file that you asked for.  This computer sends you back the information.  \n",
    "\n",
    "This is called the request response cycle."
   ]
  },
  {
   "cell_type": "markdown",
   "metadata": {},
   "source": [
    "### Tell it to me in pictures\n",
    "\n"
   ]
  },
  {
   "cell_type": "markdown",
   "metadata": {},
   "source": [
    "\n",
    "\n",
    "**1. Step One: The request**\n",
    "\n",
    "We **request** information by typing in a URL (or clicking on a link to a URL, which is essentially the equivalent).  This request like www.espn.com is really a series of numbers that we called the ip address."
   ]
  },
  {
   "cell_type": "markdown",
   "metadata": {},
   "source": [
    "**2. Step Two: This request makes goes through a bunch of wires**"
   ]
  },
  {
   "cell_type": "markdown",
   "metadata": {},
   "source": [
    "<img src=\"https://github.com/jigsawlabs/curriculum-assets/blob/master/introduction-to-apis/4-the-request-response-cycle/internet-map.png?raw=true\" />"
   ]
  },
  {
   "cell_type": "markdown",
   "metadata": {},
   "source": [
    "> **Above** is a map of the wires that we draped the globe with to create the world wide web.\n",
    ">\n",
    ">\n",
    ">\n",
    ">\n",
    ">  And **below** is an image of a shark trying to eat one of them."
   ]
  },
  {
   "cell_type": "markdown",
   "metadata": {},
   "source": [
    "<img src=\"https://github.com/jigsawlabs/curriculum-assets/blob/master/introduction-to-apis/4-the-request-response-cycle/shark-eating-internet.jpg?raw=true\" >"
   ]
  },
  {
   "cell_type": "markdown",
   "metadata": {},
   "source": [
    "Once we type in or click on the the website, the request makes its way through a bunch of wires, to the address of the correct computer."
   ]
  },
  {
   "cell_type": "markdown",
   "metadata": {},
   "source": [
    "**3. Step three: The request reaches it's destination, a file on a computer**"
   ]
  },
  {
   "cell_type": "markdown",
   "metadata": {},
   "source": [
    "![](https://github.com/jigsawlabs/curriculum-assets/blob/master/introduction-to-apis/4-the-request-response-cycle/server-image.jpg?raw=true)"
   ]
  },
  {
   "cell_type": "markdown",
   "metadata": {},
   "source": [
    "> An image of some of the that house the information we request online.  Oftentimes, a website will pay a company like Google to rent space in one of these computers, and Google will directly take care of their upkeep and connecting them to the Internet.  Computers that serve back information, are called **servers**."
   ]
  },
  {
   "cell_type": "markdown",
   "metadata": {},
   "source": [
    "## Step 4: The response goes to your computer"
   ]
  },
  {
   "cell_type": "markdown",
   "metadata": {},
   "source": [
    "A computer like one of the ones above sends back text across the wires."
   ]
  },
  {
   "cell_type": "markdown",
   "metadata": {},
   "source": [
    "<img src=\"https://github.com/jigsawlabs/curriculum-assets/blob/master/introduction-to-apis/4-the-request-response-cycle/shark-eating-internet.jpg?raw=true\" >\n",
    "\n",
    "> Past the sharks."
   ]
  },
  {
   "cell_type": "markdown",
   "metadata": {},
   "source": [
    "## Step 5: The response eventually reaches your browser"
   ]
  },
  {
   "cell_type": "markdown",
   "metadata": {},
   "source": [
    "<img src=\"https://github.com/jigsawlabs/curriculum-assets/blob/master/introduction-to-apis/4-the-request-response-cycle/espn-response.png?raw=true\" >"
   ]
  },
  {
   "cell_type": "markdown",
   "metadata": {},
   "source": [
    "## Summary"
   ]
  },
  {
   "cell_type": "markdown",
   "metadata": {},
   "source": [
    "In this lesson, we saw that when we visit different websites, under the hood we are kicking off the request response cycle.  \n",
    "\n",
    "The request response cycle begins when we either click on a link that takes us to a website or directly type in the URL of a website.  That tying in a URL is called a **request**.  This request eventually makes it's way to a computer that sends back a **response** to our browser.  When our browser receives the response the request response cycle is complete.  \n",
    "\n",
    "We'll learn a little bit more about requests and responses in the next lesson."
   ]
  }
 ],
 "metadata": {
  "kernelspec": {
   "display_name": "Python 3 (ipykernel)",
   "language": "python",
   "name": "python3"
  },
  "language_info": {
   "codemirror_mode": {
    "name": "ipython",
    "version": 3
   },
   "file_extension": ".py",
   "mimetype": "text/x-python",
   "name": "python",
   "nbconvert_exporter": "python",
   "pygments_lexer": "ipython3",
   "version": "3.10.6"
  }
 },
 "nbformat": 4,
 "nbformat_minor": 4
}
