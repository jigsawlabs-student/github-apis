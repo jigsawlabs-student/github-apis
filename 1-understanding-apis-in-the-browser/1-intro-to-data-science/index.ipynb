{
 "cells": [
  {
   "cell_type": "markdown",
   "metadata": {},
   "source": [
    "# Introduction to data science"
   ]
  },
  {
   "cell_type": "markdown",
   "metadata": {},
   "source": [
    "### Data Science: What is it?\n",
    "\n",
    "A lot of people want data science nowadays.  The amount of data we are capturing digitally is immense, and there is advantage extracting insights from and then acting on this data.  But what is data science? \n",
    "\n",
    "> **Data science** uses a multi-disciplinary field that extracts knowledge and insights from data.  When we say multi-disciplinary we mean the combination of three fields: computer programming, statistics, and business intelligence.\n",
    "\n",
    "<img src=\"https://github.com/jigsawlabs/curriculum-assets/blob/master/introduction-to-apis/1-introduction-to-data-science/ds-venn.png?raw=true\" width=\"80%\">\n",
    "\n",
    "Each of these skills offers something different.  Data scientists use:\n",
    "\n",
    "1. **computer programming** to collect and organize digital data \n",
    "2. **statistics and machine learning** to identify the pieces of that data that's particularly important\n",
    "3. **business skills** to present the information to others and recommend specific actions driven by the data"
   ]
  },
  {
   "cell_type": "markdown",
   "metadata": {},
   "source": [
    "Yes, this is a lot to learn.  But don't worry, data science is not an all or nothing proposition.  The value comes in layers.\n",
    "\n",
    "Just learning how to capture some of this digital information adds value.  Then making sense of it with statistical analysis and machine learning adds more.  And finally, of course, comes making decisions or taking action this analysis."
   ]
  },
  {
   "cell_type": "markdown",
   "metadata": {},
   "source": [
    "### How can we use data science?\n",
    "\n",
    "Data scientists can *apply* this skillset to almost any field where decisions are made.  For example, data scientists work for: \n",
    "\n",
    "* *businesses* to decide who to market to, what to market, and predict future revenues\n",
    "* *political campaigns* to decide what voters to target\n",
    "* *the medical community* for finding risk factors for diseases, and diagnosing diseases\n",
    "\n",
    "<img src=\"https://github.com/jigsawlabs/curriculum-assets/blob/master/introduction-to-apis/1-introduction-to-data-science/data-analysts-obama.jpg?raw=true\" width=\"50%\">\n",
    "\n",
    "> * **Above** Members of Obama's 2012 campaign data team.\n",
    "> * **Below** In 2015, NYC data scientists found a connection between the month a child is born and the prevalence of different diseases\n",
    "\n",
    "<img src=\"https://github.com/jigsawlabs/curriculum-assets/blob/master/introduction-to-apis/1-introduction-to-data-science/birth-month-and-disease.jpg?raw=true\" width=\"50%\">"
   ]
  },
  {
   "cell_type": "markdown",
   "metadata": {},
   "source": [
    "### How much demand is there for data science?\n",
    "\n",
    "While humans, have always been making sense of data, data science has taken off in the past couple years.  \n",
    "\n",
    "#### Data goes digital\n",
    "\n",
    "One reason for for this is the digitization of data.  Just from 2016 to 2018 the amount of digital data has almost doubled.\n",
    "\n",
    "<img src=\"https://github.com/jigsawlabs/curriculum-assets/blob/master/introduction-to-apis/1-introduction-to-data-science/data-amount.png?raw=true\" width=\"70%\"/>\n",
    "\n",
    "So now instead of data living inside of an individual's brain, data can be shared on the Internet worldwide, or within an organization or department.  And organizations increasingly are looking to derive business value from this data. \n",
    "\n",
    "#### The job market responds\n",
    "\n",
    "The job market has responded accordingly.  From December 2017 to December 2018, there has been a 31% increase in job postings for data science.\n",
    "\n",
    "<img src=\"https://github.com/jigsawlabs/curriculum-assets/blob/master/introduction-to-apis/1-introduction-to-data-science/data-science-job-numbers.png?raw=true\" />\n",
    "\n",
    "### Summary\n",
    "\n",
    "You can begin to see why data science is so relevant to our world.  We have more and more data, and so we need to learn proper ways to use that data to take action.  As a data scientist, we use three main disciplines to do this: \n",
    "\n",
    "1. *computer programming* to collect and organize data,  \n",
    "2. *statistics and machine learning* to extract insights from this data and \n",
    "3. *business intelligence* to explain the analysis recommend actions based on the analysis. \n",
    "\n",
    "Organizations can use the data science ultimately guide how they take action and take data driven decisions.  Let's get started.  \n",
    "\n",
    "#### Resources \n",
    "\n",
    "[How Obamas Team Used Big Data To Rally Voters](https://www.technologyreview.com/s/509026/how-obamas-team-used-big-data-to-rally-voters/)\n",
    "\n",
    "[Connection between birth month and diseases](https://systemsbiology.columbia.edu/news/data-scientists-find-connections-between-birth-month-and-health)\n",
    "\n",
    "[Data Scientist Job Outlook](https://www.hiringlab.org/2019/01/17/data-scientist-job-outlook/)"
   ]
  }
 ],
 "metadata": {
  "kernelspec": {
   "display_name": "Python 3 (ipykernel)",
   "language": "python",
   "name": "python3"
  },
  "language_info": {
   "codemirror_mode": {
    "name": "ipython",
    "version": 3
   },
   "file_extension": ".py",
   "mimetype": "text/x-python",
   "name": "python",
   "nbconvert_exporter": "python",
   "pygments_lexer": "ipython3",
   "version": "3.10.6"
  }
 },
 "nbformat": 4,
 "nbformat_minor": 4
}
