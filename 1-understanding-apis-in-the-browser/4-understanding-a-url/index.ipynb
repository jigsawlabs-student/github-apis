{
 "cells": [
  {
   "cell_type": "markdown",
   "metadata": {},
   "source": [
    "# Understanding URLs"
   ]
  },
  {
   "cell_type": "markdown",
   "metadata": {},
   "source": [
    "## Introduction"
   ]
  },
  {
   "cell_type": "markdown",
   "metadata": {},
   "source": [
    "In this lesson, we saw we can copy and paste code some code from Google to get information about different books.\n",
    "\n",
    "![](./harry-potter-form.png)\n",
    "\n",
    "Really all we did was copy a web address that Google sent us and then paste it into our browser.  \n",
    "\n",
    "![](./harry-potter-search.png)\n",
    "\n",
    "So the key to getting information from Google was to use the right web address.  That's essentially how we get access data, by using the correct web address.  But to use the correct web address that specifies exactly what type of information we would like, we first need to better understand that type of information that a web address contains."
   ]
  },
  {
   "cell_type": "markdown",
   "metadata": {},
   "source": [
    "## Navigate the web like an engineer"
   ]
  },
  {
   "cell_type": "markdown",
   "metadata": {},
   "source": [
    "[Click here](http://www.espn.com)."
   ]
  },
  {
   "cell_type": "markdown",
   "metadata": {},
   "source": [
    "<img src=\"https://github.com/jigsawlabs/curriculum-assets/blob/master/introduction-to-apis/3-understanding-a-url/espn-screenshot.png?raw=true\" width=\"60%\" />"
   ]
  },
  {
   "cell_type": "markdown",
   "metadata": {},
   "source": [
    "What we'll see is ESPN's website.  And as a data scientist we need to know a little bit about how our browser retrieves information from ESPN, or any website for that matter.  "
   ]
  },
  {
   "cell_type": "markdown",
   "metadata": {},
   "source": [
    "The key part is the web address at the very top of the page.  Data scientists and developers call that a `url`, short for uniform resource locator.  Notice that if we click on any link on ESPN's website, it will almost always begin with that same url: `www.espn.com`.\n",
    "\n",
    "So when we click on the link to the nba, the url becomes `www.espn.com/nba`.  "
   ]
  },
  {
   "cell_type": "markdown",
   "metadata": {},
   "source": [
    "<img src=\"./espn-nba.png\" width=\"40%\">"
   ]
  },
  {
   "cell_type": "markdown",
   "metadata": {},
   "source": [
    "The part `www.espn.com` is called the **root url**, as you can think of it like the root of a tree.  When we go to section of the website like `www.espn.com/nba` we are reaching one branch of that tree, the branch about the NBA.\n",
    "\n",
    "So if we want to see anything related to the NBA, we go to `www.espn.com/nba`.  And these urls can branch off even further.  For example, if we want to see the list of teams in the NBA, we go to `www.espn.com/nba/teams`.  And to see the list of NBA players we go to `www.espn.com/nba/players`.\n",
    "\n",
    "\n",
    "<img src='./rest-wikipedia.png' width=\"120%\"/> "
   ]
  },
  {
   "cell_type": "markdown",
   "metadata": {},
   "source": [
    "### Introduction to resources\n",
    "\n",
    "Both `nba/teams` and `nba/players` are called a resource.  And the Internet is organized this way.  It's not by accident.  The Internet used to be a jumbled mess.  Then this programmer Roy Fielding suggested developers we organize our websites into a pattern that he called RESTful, and developers happily complied. \n",
    "\n",
    "One of the main concepts of being RESTful is just that our urls should be describe what we see on the page.\n",
    "\n",
    "So to see nba players, we should go to `www.espn.com/nba/players`."
   ]
  },
  {
   "cell_type": "markdown",
   "metadata": {},
   "source": [
    "### One last thing - query parameters\n",
    "\n",
    "Now let's take a look at what happens if we want to search for specific information - say on Steph Curry.  From ESPN's home page, we'll type in his name in the search box and then press enter.  Notice what url ESPN ends up requesting.\n",
    "\n",
    "<img src=\"./steph.png\" width=\"90%\">\n"
   ]
  },
  {
   "cell_type": "markdown",
   "metadata": {},
   "source": [
    "The important part of the URL is the `search/_/q/=steph%20curry`.  If it was in the standard format of most APIs, it would look slightly different, like this: `?q=steph%20curry`.\n",
    "\n",
    "This `?q=steph%20curry` is called a query parameter.  Essentially we are saying, we are requesting search results, but only those matching the query `steph curry`.\n",
    "\n",
    "There are two components to a query parameter to know.\n",
    "\n",
    "1. The `?` indicates that we are about to begin a query.\n",
    "2. Then query parameters always follow a `field=value` pattern.  Just like in filling out a search field.  Here with `q=step%20curry` we are saying our query is steph curry.\n",
    "\n",
    "Finally, the `%20` is there just in place of a space key.  Web browsers don't play too nicely with space keys so they replace them with `%20` instead.  We can use query parameters to query more than one field as well -- example, a player by name, who also plays for a specific team - but we'll see more about that later."
   ]
  },
  {
   "cell_type": "markdown",
   "metadata": {},
   "source": [
    "### Why we care"
   ]
  },
  {
   "cell_type": "markdown",
   "metadata": {},
   "source": [
    "Now, let's take another look at how we accessed information about Harry Potter.\n",
    "\n",
    "<img src=\"./harry-potter-search.png\" width=\"70%\">"
   ]
  },
  {
   "cell_type": "markdown",
   "metadata": {},
   "source": [
    "Now we can understand what's in that address.\n",
    "\n",
    "* Our root url is https://www.googleapis.com/.\n",
    "* The resource is `/books/v1/volumes/` which says find books of type volumes from the first version of Google's API.\n",
    "* And then of those volumes we have a query for tom sawyer.\n",
    "\n",
    "So by constructing a URL like this, we can ask a website for specific kinds of information.  And don't worry, APIs like the Google books API [do provide instructions](https://developers.google.com/books/docs/v1/using#WorkingVolumes) what URLs to use -- but it's good to see the pattern that all APIs follow."
   ]
  },
  {
   "cell_type": "markdown",
   "metadata": {},
   "source": [
    "### Summary"
   ]
  },
  {
   "cell_type": "markdown",
   "metadata": {},
   "source": [
    "In this lesson, we saw that websites follow a convention in how they organize content.  Content is organized by a resource.\n",
    "\n",
    "When we access information about a resource, we generally use the plural form of the resource name, as in `/nba/players`.  Then we can be even more specific about what player information we would like to see by using query parameters.  Query parameters follow a pattern of `?field=value`, and they are used both when we search for information on a website, as well as when we request information via an API."
   ]
  },
  {
   "cell_type": "markdown",
   "metadata": {},
   "source": [
    "### Resources"
   ]
  },
  {
   "cell_type": "markdown",
   "metadata": {},
   "source": [
    "* [Google Books API](https://developers.google.com/books/docs/v1/using#WorkingVolumes)"
   ]
  }
 ],
 "metadata": {
  "kernelspec": {
   "display_name": "Python 3 (ipykernel)",
   "language": "python",
   "name": "python3"
  },
  "language_info": {
   "codemirror_mode": {
    "name": "ipython",
    "version": 3
   },
   "file_extension": ".py",
   "mimetype": "text/x-python",
   "name": "python",
   "nbconvert_exporter": "python",
   "pygments_lexer": "ipython3",
   "version": "3.10.6"
  }
 },
 "nbformat": 4,
 "nbformat_minor": 4
}
