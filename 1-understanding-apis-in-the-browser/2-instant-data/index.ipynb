{
 "cells": [
  {
   "cell_type": "markdown",
   "metadata": {},
   "source": [
    "### The data scientist approach to the Internet"
   ]
  },
  {
   "cell_type": "markdown",
   "metadata": {},
   "source": [
    "One of the main reasons behind the growth in data scientists in recent years is simply the amount of digital data."
   ]
  },
  {
   "cell_type": "markdown",
   "metadata": {},
   "source": [
    "<img src=\"https://github.com/jigsawlabs/curriculum-assets/blob/master/introduction-to-apis/1-introduction-to-data-science/data-amount.png?raw=true\" width=\"70%\"/>"
   ]
  },
  {
   "cell_type": "markdown",
   "metadata": {},
   "source": [
    "Now one of the skills that data scientists must have in this world of data, is how to access this data quickly online."
   ]
  },
  {
   "cell_type": "markdown",
   "metadata": {},
   "source": [
    "Lucky for us there, are web pages out there whose sole purpose is to give us access to data.  And these websites are owned and run by some of the largest tech companies. "
   ]
  },
  {
   "cell_type": "markdown",
   "metadata": {},
   "source": [
    "### Getting web based data"
   ]
  },
  {
   "cell_type": "markdown",
   "metadata": {},
   "source": [
    "For example, Google runs a website whose sole job is to tell information about different books and authors."
   ]
  },
  {
   "cell_type": "markdown",
   "metadata": {},
   "source": [
    "For example, [click here.](https://www.googleapis.com/books/v1/volumes?q=tom%20sawyer)  This website tells us information about the book Tom Sawyer."
   ]
  },
  {
   "cell_type": "markdown",
   "metadata": {},
   "source": [
    "Let's start training ourselves how to use this website."
   ]
  },
  {
   "cell_type": "markdown",
   "metadata": {},
   "source": [
    "### I. Navigating google books"
   ]
  },
  {
   "cell_type": "markdown",
   "metadata": {},
   "source": [
    "1. Go to [the google books guide](https://developers.google.com/books/docs/v1/reference/volumes/list). You can do this by searching for the following in Google.\n",
    "\n",
    "<img src=\"volume-list-from-google.png\" width=\"100%\"> "
   ]
  },
  {
   "cell_type": "markdown",
   "metadata": {},
   "source": [
    "2. You'll find a form to the right.  Then click on the dotted box to the left of the `x`."
   ]
  },
  {
   "cell_type": "markdown",
   "metadata": {},
   "source": [
    "<img src=\"./try-this-api.png\" width=\"60%\"> "
   ]
  },
  {
   "cell_type": "markdown",
   "metadata": {},
   "source": [
    "2. After clicking on the dotted box, you should an expanded version of the form.  There's a panel on the left, and the middle tab says HTTP.  Click on that."
   ]
  },
  {
   "cell_type": "markdown",
   "metadata": {},
   "source": [
    "<img src=\"http-api-explorer.png\"/>"
   ]
  },
  {
   "cell_type": "markdown",
   "metadata": {},
   "source": [
    "3. Ok now it's time to search for different book information.  In the first field under the letter `q`, which stands for query, put in whatever search terms you like, like \"Harry Potter\".  "
   ]
  },
  {
   "cell_type": "markdown",
   "metadata": {},
   "source": [
    " \n",
    "<img src=\"./harry-potter-form.png\" width=\"120%\">"
   ]
  },
  {
   "cell_type": "markdown",
   "metadata": {},
   "source": [
    "a) If you have a google account, you can press the execute button, connect your account and retrieve information.  \n",
    "\n",
    "b) If not, after filling out the `q` field (and hopefully some others) to the left, copy the web address after the word `GET`.  And paste it in a new tab in the browser, in the address bar. Then press enter.\n",
    "\n",
    "> You can open a new tab in chrome by pressing `cmd+t`."
   ]
  },
  {
   "cell_type": "markdown",
   "metadata": {},
   "source": [
    "<img src=\"./harry-potter-search.png\" width=\"120%\">"
   ]
  },
  {
   "cell_type": "markdown",
   "metadata": {},
   "source": [
    "4. Explore \n",
    "\n",
    "    * Play around with the different fields\n",
    "    * Take a look at the information that Google sends you back"
   ]
  },
  {
   "cell_type": "markdown",
   "metadata": {},
   "source": [
    "### II. Working without the form"
   ]
  },
  {
   "cell_type": "markdown",
   "metadata": {},
   "source": [
    "* Notice the pattern in the web address, how does the end of the web address relate to the form fields you fill out\n",
    "\n",
    "* Try to get back the correct information from Google without using the form.  Instead just follow the pattern."
   ]
  }
 ],
 "metadata": {
  "kernelspec": {
   "display_name": "Python 3 (ipykernel)",
   "language": "python",
   "name": "python3"
  },
  "language_info": {
   "codemirror_mode": {
    "name": "ipython",
    "version": 3
   },
   "file_extension": ".py",
   "mimetype": "text/x-python",
   "name": "python",
   "nbconvert_exporter": "python",
   "pygments_lexer": "ipython3",
   "version": "3.10.6"
  }
 },
 "nbformat": 4,
 "nbformat_minor": 4
}
