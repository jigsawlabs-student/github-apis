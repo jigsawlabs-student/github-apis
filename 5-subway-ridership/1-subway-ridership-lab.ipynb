{
 "cells": [
  {
   "cell_type": "markdown",
   "id": "20216a5e-ef5a-47ac-b41b-798ab41b31c5",
   "metadata": {},
   "source": [
    "# Subway Ridership Lab"
   ]
  },
  {
   "cell_type": "markdown",
   "id": "59f9adc3-4898-4bdb-90eb-dc22cbf5964f",
   "metadata": {},
   "source": [
    "### Introduction"
   ]
  },
  {
   "cell_type": "markdown",
   "id": "443d5b7c-8cdd-4693-8232-71b22b58af6d",
   "metadata": {},
   "source": [
    "In this lesson, we will work with some subway ridership data.  Information about the API is available [here](https://data.ny.gov/Transportation/MTA-Subway-Hourly-Ridership-Beginning-February-202/wujg-7c2s).\n",
    "\n",
    "Let's get started."
   ]
  },
  {
   "cell_type": "markdown",
   "id": "71a71ed0-a8c8-4cc2-8e1d-710e8f1a86e0",
   "metadata": {},
   "source": [
    "### Why do it"
   ]
  },
  {
   "cell_type": "markdown",
   "id": "48dfb22f-4c0e-4cbe-8d94-e2a36e0dbb58",
   "metadata": {},
   "source": [
    "Here's a couple reasons why exploring the API is useful.  \n",
    "\n",
    "The main reason is that it's a proxy for movement in the city.  And as we know, city downtowns have changed dramatically post-covid.  So here, we can explore how ridership has changed, and how people now move about in a hybrid working world."
   ]
  },
  {
   "cell_type": "markdown",
   "id": "3d4373d8-b9e3-4222-bdd7-97593645f787",
   "metadata": {},
   "source": [
    "### Working with Data"
   ]
  },
  {
   "cell_type": "markdown",
   "id": "e3bd8ce1-6184-41c8-bbcb-4ead5db76860",
   "metadata": {},
   "source": [
    "In this lesson, we will work with our subway data. Let's start by making a request to the data here."
   ]
  },
  {
   "cell_type": "code",
   "execution_count": 1,
   "id": "48f93a65-25e4-43a1-a099-55eab4ac1c39",
   "metadata": {},
   "outputs": [],
   "source": [
    "url = \"https://data.ny.gov/resource/wujg-7c2s.json\"\n",
    "\n",
    "import requests\n",
    "\n",
    "response = requests.get(url)"
   ]
  },
  {
   "cell_type": "code",
   "execution_count": 4,
   "id": "c71eae48-8175-43e3-9130-aad7cd51d41c",
   "metadata": {},
   "outputs": [
    {
     "data": {
      "text/plain": [
       "[{'transit_timestamp': '2022-10-14T05:00:00.000',\n",
       "  'station_complex_id': 'H007',\n",
       "  'station_complex': '1 Av (L)',\n",
       "  'borough': 'M',\n",
       "  'routes': 'L',\n",
       "  'payment_method': 'omny',\n",
       "  'ridership': '31.0',\n",
       "  'transfers': '0.0',\n",
       "  'latitude': '40.730953216552734',\n",
       "  'longitude': '-73.98162841796875',\n",
       "  'georeference': {'type': 'Point',\n",
       "   'coordinates': [-73.98162841796875, 40.730953216552734]},\n",
       "  'itsuid': '2022-10-14T05:00:00H0071 Av (L)MLomny',\n",
       "  ':@computed_region_wbg7_3whc': '724',\n",
       "  ':@computed_region_kjdx_g34t': '2095',\n",
       "  ':@computed_region_yamh_8v7k': '749'}]"
      ]
     },
     "execution_count": 4,
     "metadata": {},
     "output_type": "execute_result"
    }
   ],
   "source": [
    "response.json()[:1]"
   ]
  },
  {
   "cell_type": "markdown",
   "id": "8415caff-56ac-4b45-97eb-2f426abe0acd",
   "metadata": {},
   "source": [
    "Like always, a good first step is to determine the grain of the data.  Here, we can see that there is ridership amount at a given time -- potentially a given an hour."
   ]
  },
  {
   "cell_type": "markdown",
   "id": "84781c89-86aa-4b4f-8529-0a116cdf6211",
   "metadata": {},
   "source": [
    "### Explore the API"
   ]
  },
  {
   "cell_type": "markdown",
   "id": "7f04c9e9-b9bb-4d06-bf64-7fdfc7dd1613",
   "metadata": {},
   "source": [
    "A good additional step is to now explore the API.  You can see the [Api documentation](https://dev.socrata.com/foundry/data.ny.gov/wujg-7c2s) listed here."
   ]
  },
  {
   "cell_type": "markdown",
   "id": "6c65390e-e7b2-40a2-bc83-d9602e258559",
   "metadata": {},
   "source": [
    "If you click on some of the fields listed, you can see how to make a specific query.  For example to filter for information in a specific borough, you can make the following request, which will only return hourly turnstile information in brooklyn."
   ]
  },
  {
   "cell_type": "markdown",
   "id": "10b09b90-8d9a-48cb-8f4a-841267c16dd5",
   "metadata": {},
   "source": [
    "<img src=\"./fields.png\">"
   ]
  },
  {
   "cell_type": "markdown",
   "id": "fa7ed88b-1e2a-4b6f-bcd0-bdf9e04915a2",
   "metadata": {},
   "source": [
    "And if we want to combine two searches, we will of course places the ampersand between our query parameters.  For example, copying and pasting the following into a browser will return ridership stats for 2023 in brooklyn."
   ]
  },
  {
   "cell_type": "markdown",
   "id": "eaa15052-452a-455f-8850-08b473953df9",
   "metadata": {},
   "source": [
    "```python\n",
    "https://data.ny.gov/resource/wujg-7c2s.json?transit_timestamp=2023-10-01T00:00:00.000&borough=BK\n",
    "```"
   ]
  },
  {
   "cell_type": "markdown",
   "id": "964acbaa-93a6-4ffe-883e-9568b893b1c2",
   "metadata": {},
   "source": [
    "And from there, you can dig deeper."
   ]
  },
  {
   "cell_type": "markdown",
   "id": "7a90a718-c465-4d17-9546-18b4eea28f2f",
   "metadata": {},
   "source": [
    "### Some analysis"
   ]
  },
  {
   "cell_type": "markdown",
   "id": "7fcf509a-9048-4971-943e-e764eb1f6107",
   "metadata": {},
   "source": [
    "We would like this to be relatively free form, but here are some questions to get you started.  In general advice is the following -- start broad and then go narrow.  \n",
    "\n",
    "So if we are exploring subway ridership, which of the subway stops are significant to explore.  That might be our first question."
   ]
  },
  {
   "cell_type": "markdown",
   "id": "d66ca4fc-fac7-4dbf-b35d-da8f6a591598",
   "metadata": {},
   "source": [
    "1. Write a function that given a day and a borough, returns the dictionaries with the max ridership numbers.\n",
    "\n",
    "2. From there, you can see find the stations with that have some of the top ridership numbers in a given hour.  \n",
    "\n",
    "\n",
    "### Performing Analysis"
   ]
  },
  {
   "cell_type": "markdown",
   "id": "688f9f8c-3fea-41a0-9cfa-c0ab9ee13753",
   "metadata": {},
   "source": [
    "Now we are ready to perform some of the analysis.  Fo"
   ]
  },
  {
   "cell_type": "markdown",
   "id": "8ec58716-63c9-4ed3-9447-f96e4dc4612b",
   "metadata": {},
   "source": [
    "1. Now write a function that given a station (as a string), and a day, returns the total amount of riders for that day.\n",
    "\n",
    "2. And now let's see how ridership varies by the day of week.  For example, for a station, what are the most popular days of travel?\n",
    "\n",
    "3. Can you calculate this per month, and determine monthly travel?\n",
    "\n",
    "4. Or hourly travel?\n",
    "    > For something like this, it may be useful to first write a function that places the day, hour, and year of each dictionary into separate key value pairs, and then perform the analysis. "
   ]
  },
  {
   "cell_type": "markdown",
   "id": "1321d7e5-c4f8-459b-ba1b-97417e79fbd2",
   "metadata": {},
   "source": [
    "5. What are some high daily ridership numbers for a station, and what are some low daily ridership numbers (for a day or for a week)?  Can you write a function that will show us the stations that surpass our high numbers for a given day or week.  Or stations that are lower than the low numbers?"
   ]
  },
  {
   "cell_type": "markdown",
   "id": "1386363a-39dc-4da9-a14f-de02e9e90c0b",
   "metadata": {},
   "source": [
    "6. How has ridership changed since Covid?  Can you see some stations that have been changed more significantly than others?  Or can you find certain days of the week that ridership has changed more dramatically than others?\n",
    "\n"
   ]
  },
  {
   "cell_type": "markdown",
   "id": "747ceab8-c831-46b1-8c68-70607b75b02f",
   "metadata": {},
   "source": [
    "7. And remember you can use plotly or folium to plot either some of these stations, or some of the data."
   ]
  }
 ],
 "metadata": {
  "kernelspec": {
   "display_name": "Python 3 (ipykernel)",
   "language": "python",
   "name": "python3"
  },
  "language_info": {
   "codemirror_mode": {
    "name": "ipython",
    "version": 3
   },
   "file_extension": ".py",
   "mimetype": "text/x-python",
   "name": "python",
   "nbconvert_exporter": "python",
   "pygments_lexer": "ipython3",
   "version": "3.9.12"
  }
 },
 "nbformat": 4,
 "nbformat_minor": 5
}
